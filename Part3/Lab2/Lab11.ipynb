{
 "cells": [
  {
   "cell_type": "markdown",
   "metadata": {},
   "source": [
    "# Lab 11: Particle Picking"
   ]
  },
  {
   "cell_type": "markdown",
   "metadata": {},
   "source": [
    "### Due November 20th, 2021 11:59 PM CST"
   ]
  },
  {
   "cell_type": "markdown",
   "metadata": {},
   "source": [
    "#### Logistics and Lab Submission"
   ]
  },
  {
   "cell_type": "markdown",
   "metadata": {},
   "source": [
    "See the [course website](https://courses.engr.illinois.edu/ece365/fa2019/logisticsvvv.html)."
   ]
  },
  {
   "cell_type": "markdown",
   "metadata": {},
   "source": [
    "This lab covers some building blocks used in Cryo-EM particle picking:\n",
    "\n",
    "- Binary classification using SVMs\n",
    "- Cross-correlation function (1D/2D)\n",
    "- Shift-alignment of 1D/2D signals\n",
    "\n",
    "The submission procedure is provided below:\n",
    "- You will be provided with a template Python script (main.py) for this lab where you need to implement the provided functions as needed for each question. Follow the instructions provided in this Jupyter Notebook (.ipynb) to implement the required functions. **Do not change the file name or the function headers!**\n",
    "- <b>This lab contains non-programming questions.</b> These questions will be graded manually and their score will appear after the submission deadline. Write the answers to these questions in the Jupyter notebook.\n",
    "- Upload <b>BOTH</b> your Python script (.py file) and Jupyter notebook (.ipynb file) on Gradescope.\n",
    "- Your grades and feedbacks will appear on Gradescope. The grading for the programming questions is automated using Gradescope autograder, no partial credits are given. Therefore, if you wish, you will have a chance to re-submit your code **within 72 hours** of receiving your first grade for this lab, only if you have *reasonable* submissions before the deadline (i.e. not an empty script).\n",
    "- If you re-submit, the final grade for the programming part of this lab will be calculated as .4 \\* first_grade + .6 \\* .9 \\* re-submission_grade.\n",
    "\n",
    "The purpose of problems titled `Visualization` are to better understand and test your results visually. `Visualization` problems will <b>NOT</b> be graded."
   ]
  },
  {
   "cell_type": "markdown",
   "metadata": {},
   "source": [
    "## Please type all your answers to programming problems in *main.py*. \n",
    "## Answers to non-programming problems should be typed in the Jupyter notebook. You need to submit both *main.py* and *Lab11.ipynb*."
   ]
  },
  {
   "cell_type": "markdown",
   "metadata": {},
   "source": [
    "#### Preamble (Don't change this)"
   ]
  },
  {
   "cell_type": "code",
   "execution_count": null,
   "metadata": {},
   "outputs": [],
   "source": [
    "%pylab inline\n",
    "import numpy as np\n",
    "import matplotlib.pyplot as plt\n",
    "matplotlib.rcParams['text.usetex'] = True\n",
    "from sklearn.datasets import make_moons, make_circles, make_blobs\n",
    "from sklearn.model_selection import train_test_split\n",
    "import scipy.io"
   ]
  },
  {
   "cell_type": "markdown",
   "metadata": {},
   "source": [
    "This line runs your python script that you are going to submit. Objects are created for your reference. You can copy-paste this box so you don't need to come up later. **Do not change the file name!**"
   ]
  },
  {
   "cell_type": "code",
   "execution_count": null,
   "metadata": {},
   "outputs": [],
   "source": [
    "%run main.py\n",
    "q1 = Question1()\n",
    "q2 = Question2()\n",
    "q3 = Question3()"
   ]
  },
  {
   "cell_type": "markdown",
   "metadata": {},
   "source": [
    "# Problem 1 : Binary classification using SVM (26 points)\n",
    "\n",
    "You learned about support vector machines (SVM) in part 1 of the course. In this problem, you will examine SVM with linear and non-linear kernels for a binary classification task. We use three different datasets in this problem. Let's first create and visualize these dataset using `sklearn` library."
   ]
  },
  {
   "cell_type": "code",
   "execution_count": null,
   "metadata": {},
   "outputs": [],
   "source": [
    "num_samples = 1000 # number of samples in the dataset\n",
    "\n",
    "# X is our data points and y are our labels\n",
    "X_moon, y_moon = make_moons(n_samples=num_samples, noise=0.1)\n",
    "\n",
    "X_circ, y_circ = make_circles(n_samples=num_samples, factor=0.5, noise=0.1)\n",
    "\n",
    "centers = np.array([[1., 1.], [-1., -1.]])\n",
    "X_blob, y_blob = make_blobs(n_samples=num_samples, centers=centers, cluster_std=0.5, random_state=0)"
   ]
  },
  {
   "cell_type": "markdown",
   "metadata": {},
   "source": [
    "In these datasets, the labels are $0$ and $1$. We refer to the $0$ and $1$ labels, as negative and positive, resepctively. Now, let's visualize this dataset. In the plots below, the blue/red samples correspond to positive/negative samples."
   ]
  },
  {
   "cell_type": "code",
   "execution_count": null,
   "metadata": {},
   "outputs": [],
   "source": [
    "def visualize_dataset(X, y, name=None):\n",
    "    plt.figure()\n",
    "    plt.scatter(X[(y==0), 0], X[(y==0), 1], color='red')\n",
    "    plt.scatter(X[(y==1), 0], X[(y==1), 1], color='blue')\n",
    "    if not (name is None):\n",
    "        plt.title(name)\n",
    "    plt.show()"
   ]
  },
  {
   "cell_type": "code",
   "execution_count": null,
   "metadata": {},
   "outputs": [],
   "source": [
    "# Let's plot these dataset\n",
    "# two-moon dataset\n",
    "visualize_dataset(X_moon, y_moon, name='Two-moon dataset')\n",
    "\n",
    "# circles dataset\n",
    "visualize_dataset(X_circ, y_circ, name='Circles dataset')\n",
    "\n",
    "# blobs dataset\n",
    "visualize_dataset(X_blob, y_blob, name='Blobs dataset')"
   ]
  },
  {
   "cell_type": "markdown",
   "metadata": {},
   "source": [
    "Now, let's split this dataset into train and test splits. We will train SVMs on training set while testing the trained models on the test split."
   ]
  },
  {
   "cell_type": "code",
   "execution_count": null,
   "metadata": {},
   "outputs": [],
   "source": [
    "test_size = 0.2\n",
    "X_moon_train, X_moon_test, y_moon_train, y_moon_test = train_test_split(X_moon, \n",
    "                                                                        y_moon, \n",
    "                                                                        test_size=test_size, \n",
    "                                                                        random_state=0)\n",
    "\n",
    "X_circ_train, X_circ_test, y_circ_train, y_circ_test = train_test_split(X_circ, \n",
    "                                                                        y_circ, \n",
    "                                                                        test_size=test_size, \n",
    "                                                                        random_state=0)\n",
    "\n",
    "X_blob_train, X_blob_test, y_blob_train, y_blob_test = train_test_split(X_blob, \n",
    "                                                                        y_blob, \n",
    "                                                                        test_size=test_size, \n",
    "                                                                        random_state=0)"
   ]
  },
  {
   "cell_type": "markdown",
   "metadata": {},
   "source": [
    "Given these datasets, we want to fit SVM classifiers with different kernel types to the train split of these datasets:\n",
    "* SVM with linear kernel: Specifies a linear decision boundary between positive and negative samples.\n",
    "* SVM with non-linear kernel: Uses kernel trick alongside a non-linear kernel and finds a non-linear decision boundary between positive and negative samples.\n",
    "\n",
    "In this excercise, you are asked to:\n",
    "* Train both of these classifiers.\n",
    "* Visualize their decision boundaries.\n",
    "* Report the accuracy/precision/recall of these classifiers on the test split.\n",
    "* Explain the performance of SVM with different type of kernels on different datasets"
   ]
  },
  {
   "cell_type": "markdown",
   "metadata": {},
   "source": [
    "## Problem 1-1: Train SVMs (5 points)\n",
    "\n",
    "Write a function that takes as input your training dataset (data samples and labels), and outputs two trained SVM models on the input dataset, one with linear kernel and the other with a non-linear kernel such as radial basis function (RBF). You are allowed to use the `sklearn` library.\n",
    "\n",
    "The inputs:\n",
    "* Dataset $X$ containing the datapoints. $X$ is an numpy.ndarray of size $N \\times 2$ where $N$ is the number of datapoints.\n",
    "* Your label set $y$. $y$ is a numpy.ndarray of length $N$.\n",
    "\n",
    "The outputs:\n",
    "* The trained SVM classifier with linear kernel.\n",
    "* The trained SVM classifier with a non-linear kernel.\n",
    "\n",
    "Add your code to `Question1.svm_classifiers` in `main.py`."
   ]
  },
  {
   "cell_type": "markdown",
   "metadata": {},
   "source": [
    "## Visualization: Decision boundaries of the classifiers\n",
    "\n",
    "Let's visualize the decision bounadries of the trained classifiers for different datasets."
   ]
  },
  {
   "cell_type": "code",
   "execution_count": null,
   "metadata": {},
   "outputs": [],
   "source": [
    "def plot_decision_bd(svm_model, X, y, X_test, y_test, name='linear kernel'):\n",
    "    # plot decision boundary\n",
    "    x_min, x_max = X[:, 0].min() - 1, X[:, 0].max() + 1\n",
    "    y_min, y_max = X[:, 1].min() - 1, X[:, 1].max() + 1\n",
    "    h = 0.02\n",
    "    xx, yy = np.meshgrid(np.arange(x_min, x_max, h),\n",
    "                         np.arange(y_min, y_max, h))\n",
    "\n",
    "    # Predict the result by feeding data points to the model\n",
    "    Z = svm_model.predict(np.c_[xx.ravel(), yy.ravel()])\n",
    "    Z = Z.reshape(xx.shape)\n",
    "    plt.contourf(xx, yy, Z, cmap='bwr', alpha=0.8)\n",
    "\n",
    "    plt.scatter(X_test[:, 0], X_test[:, 1], c=y_test, cmap='bwr')\n",
    "    plt.xlim(xx.min(), xx.max())\n",
    "    plt.title('SVM with {0}'.format(name))\n",
    "    plt.colorbar()\n",
    "    plt.show()"
   ]
  },
  {
   "cell_type": "code",
   "execution_count": null,
   "metadata": {},
   "outputs": [],
   "source": [
    "svm_moon_linear, svm_moon_non_linear = q1.svm_classifiers(X_moon_train, y_moon_train)\n",
    "svm_circ_linear, svm_circ_non_linear = q1.svm_classifiers(X_circ_train, y_circ_train)\n",
    "svm_blob_linear, svm_blob_non_linear = q1.svm_classifiers(X_blob_train, y_blob_train)\n",
    "\n",
    "# plot the decision boundaries\n",
    "plot_decision_bd(svm_moon_linear, X_moon, y_moon, X_moon_test, y_moon_test, name='linear kernel')\n",
    "plot_decision_bd(svm_moon_non_linear, X_moon, y_moon, X_moon_test, y_moon_test, name='non-linear kernel')\n",
    "\n",
    "# plot decision boundaries for the other two datasets\n",
    "plot_decision_bd(svm_circ_linear, X_circ, y_circ, X_circ_test, y_circ_test, name='linear kernel')\n",
    "plot_decision_bd(svm_circ_non_linear, X_circ, y_circ, X_circ_test, y_circ_test, name='non-linear kernel')\n",
    "\n",
    "plot_decision_bd(svm_blob_linear, X_blob, y_blob, X_blob_test, y_blob_test, name='linear kernel')\n",
    "plot_decision_bd(svm_blob_non_linear, X_blob, y_blob, X_blob_test, y_blob_test, name='non-linear kernel')"
   ]
  },
  {
   "cell_type": "markdown",
   "metadata": {},
   "source": [
    "## Problem 1-2: Compute accuracy, precision and recall of a classifier (15 points)\n",
    "First, let's define true positive ($TP$), true negative ($TN$), false positive ($FP$) and false negative ($FN$).\n",
    "* $TP$: The number of positive data samples that are correctly classified as positive by the classifier.\n",
    "* $TN$: The number of negative data samples that are correctly classified as negative by the classifier.\n",
    "* $FP$: The number of negative data samples that are incorrectly classified as positive by the classifier.\n",
    "* $FN$: The number of positive data samples that are incorrectly classified as negative by the classifier.\n",
    "\n",
    "Based on the above definitions, we define accuracy, precision and recall.\n",
    "\n",
    "Accuracy of a classificatier is defined as:\n",
    "\n",
    "\\begin{align}\n",
    "\\textrm{Accuracy} = \\frac{\\textrm{Number of correct predictions}}{\\textrm{Total number of predictions}} = \\frac{TP+TN}{TP+FP+TN+FN}\n",
    "\\tag 1\n",
    "\\end{align}\n",
    "\n",
    "Precision of a classification model is:\n",
    "\\begin{align}\n",
    "\\textrm{Precision} = \\frac{TP}{TP+FP}\n",
    "\\tag 2\n",
    "\\end{align}\n",
    "Precision shows among the samples that are predicted as positive ($TP+FP$), how many of them are actually positive ($TP$, labeled positive).\n",
    "\n",
    "Recall is defined as:\n",
    "\\begin{align}\n",
    "\\textrm{Recall} = \\frac{TP}{TP+FN}\n",
    "\\tag 3\n",
    "\\end{align}\n",
    "Recall shows what proportion of the actual positives were identified correctly.\n",
    "\n",
    "Based on the above definitions, write a function that returns accuracy, precision and recall given the predictions from your trained svm model and a test set.\n",
    "\n",
    "The inputs to your model are:\n",
    "* $y_{predict}$: predicted labels by your trained SVM model. A numpy.ndarray of length $N$.\n",
    "* $y_{test}$: Ground truth test labels. A numpy.ndarray of length $N$.\n",
    "\n",
    "The outputs of your model are:\n",
    "* Accuracy (a scalar)\n",
    "* Precision (a scalar)\n",
    "* Recall (a scalar)\n",
    "\n",
    "Add your code to `Question1.acc_prec_recall` in `main.py`."
   ]
  },
  {
   "cell_type": "code",
   "execution_count": null,
   "metadata": {},
   "outputs": [],
   "source": [
    "def print_acc_prec_recall(acc, prec, recall):\n",
    "    print('Accuracy: {0:.4f}'.format(acc))\n",
    "    print('Precision: {0:.4f}'.format(prec))\n",
    "    print('Recall: {0:.4f}\\n'.format(recall))"
   ]
  },
  {
   "cell_type": "markdown",
   "metadata": {},
   "source": [
    "## Visualization: Check the performance of the SVM models"
   ]
  },
  {
   "cell_type": "code",
   "execution_count": null,
   "metadata": {},
   "outputs": [],
   "source": [
    "# Two-moon dataset----------------\n",
    "y_pred = svm_moon_linear.predict(X_moon_test)\n",
    "acc_moon_linear, prec_moon_linear, recall_moon_linear = q1.acc_prec_recall(y_pred, y_moon_test)\n",
    "\n",
    "print('Two-moon dataset, SVM with linear kernel')\n",
    "print_acc_prec_recall(acc_moon_linear, prec_moon_linear, recall_moon_linear)\n",
    "\n",
    "y_pred = svm_moon_non_linear.predict(X_moon_test)\n",
    "acc_moon_non_linear, prec_moon_non_linear, recall_moon_non_linear = q1.acc_prec_recall(y_pred, \n",
    "                                                                                       y_moon_test)\n",
    "\n",
    "print('Two-moon dataset, SVM with non-linear kernel')\n",
    "print_acc_prec_recall(acc_moon_non_linear, prec_moon_non_linear, recall_moon_non_linear)\n",
    "\n",
    "# Circles dataset----------------\n",
    "# Add your code here to print results for circles dataset\n",
    "\n",
    "\n",
    "# Blobs dataset----------------\n",
    "# Add your code here to print results for blobs dataset"
   ]
  },
  {
   "cell_type": "markdown",
   "metadata": {},
   "source": [
    "## Problem 1-3: Comparison between the SVMs (6 points)\n",
    "Based on the function you wrote in problem 1-2, compare the two SVMs with linear and RBF kernel on all three datasets. On each dataset, explain which SVM model performs better and why?\n",
    "\n",
    "Type your response here."
   ]
  },
  {
   "cell_type": "markdown",
   "metadata": {},
   "source": [
    "# Problem 2: Compute cross-correlations in 1D (10 points)\n",
    "\n",
    "In this problem, we learn about cross-correlation function and how we can use them to shift align two signals in 1D.\n",
    "\n",
    "Assume we have two 1D signals, $x_1, x_2 \\in \\mathbb{R}^d$. You can think of the two signals as vectors of length $d$, in other words $x_1 = [x_1[0], x_1[1], ..., x_1[d-1]]$ and $x_2 = [x_2[0], x_2[1], ..., x_2[d-1]]$. We define the cross-correlation function (CCF) between $x_1$ and $x_2$ as:\n",
    "\\begin{align}\n",
    "c_{x_1, x_2}[m] = \\sum\\limits_{n=0}^{d-1} x_1[k]_d x_2[m+k]_d , \\, m \\in \\{0, 1, ..., d-1\\}\n",
    "\\tag 1\n",
    "\\end{align}\n",
    "where $x[k]_d = x[k \\textrm{ mod } d]$ and $k \\textrm{ mod } d$ is the remainder of dividing $k$ by $d$. Note that the above definition for the CCF implies a periodic boundary condition. In other words, we assume that the signals $x_1$ and $x_2$ are periodic with period $d$.\n",
    "\n",
    "Let's first visualize an example of $x_1$ and $x_2$."
   ]
  },
  {
   "cell_type": "code",
   "execution_count": null,
   "metadata": {},
   "outputs": [],
   "source": [
    "d = 61\n",
    "x1 = np.zeros((d,))\n",
    "x1[5:20] = 1.\n",
    "x1 -= 0.5\n",
    "\n",
    "x2 = np.zeros((d,))\n",
    "x2[d-15:d] = 1.\n",
    "x2 -= 0.5"
   ]
  },
  {
   "cell_type": "code",
   "execution_count": null,
   "metadata": {},
   "outputs": [],
   "source": [
    "plt.figure()\n",
    "plt.plot(x1, label='x1')\n",
    "plt.plot(x2, label='x2')\n",
    "plt.legend()\n",
    "plt.xlabel('k')\n",
    "plt.show()"
   ]
  },
  {
   "cell_type": "markdown",
   "metadata": {},
   "source": [
    "### Problem 2-1: Compute cross correlation function (5 points)\n",
    "\n",
    "Given two 1D signals $x_1$ and $x_2$, write a function which computes their CCF based on Eq. (1).\n",
    "\n",
    "Inputs:\n",
    "* $x_1$ and $x_2$, two numpy.ndarrays of length $d$\n",
    "\n",
    "Output:\n",
    "* The CCF, a numpy.ndarray of length $d$\n",
    "\n",
    "Add your code to `Question2.CCF_1d` in `main.py`."
   ]
  },
  {
   "cell_type": "code",
   "execution_count": null,
   "metadata": {},
   "outputs": [],
   "source": [
    "# plot the CCF results\n",
    "ccf = q2.CCF_1d(x1, x2)\n",
    "plt.figure()\n",
    "plt.plot(ccf)\n",
    "plt.xlabel(r'$m$', fontsize=25)\n",
    "plt.ylabel(r'$c_{x_1, x_2}[m]$', fontsize=25)\n",
    "plt.show()"
   ]
  },
  {
   "cell_type": "markdown",
   "metadata": {},
   "source": [
    "### Problem 2-2: Align two signals  (5 points)\n",
    "Given two 1D signals, align them so that they have the maximum cross correlation. You can use the function you wrote in problem 2-1.\n",
    "\n",
    "Inputs:\n",
    "* $x_1$ and $x_2$, two numpy.ndarrays of length $d$\n",
    "\n",
    "Output:\n",
    "* Align $x_2$ with $x_1$. The aligned vector is a numpy.ndarray of length $d$. \n",
    "\n",
    "Add your code to `Question2.align_1d` in `main.py`.\n",
    "\n",
    "Optional: Can you solve Problem 2-2 using FFT and its properties?"
   ]
  },
  {
   "cell_type": "code",
   "execution_count": null,
   "metadata": {},
   "outputs": [],
   "source": [
    "aligned_signal = q2.align_1d(x1, x2)\n",
    "\n",
    "plt.figure()\n",
    "plt.plot(x1, label='x1')\n",
    "plt.plot(x2, label='x2')\n",
    "plt.plot(aligned_signal, '.', label='x2 aligned with x1')\n",
    "plt.legend()\n",
    "plt.show()"
   ]
  },
  {
   "cell_type": "markdown",
   "metadata": {},
   "source": [
    "## Problem 3: Cross-correlation and alignment between images (20 points)\n",
    "\n",
    "In this problem, we extend what we learned in problem 1 to two dimensional signals, i.e. images.\n",
    "\n",
    "Assume we have two 2D imagesc, $x_1, x_2 \\in \\mathbb{R}^{d \\times d}$. You can think of the two matrices of shape $d \\times d$. We define the cross-correlation function (CCF) between $x_1$ and $x_2$ as:\n",
    "\\begin{align}\n",
    "c_{x_1, x_2}[m, n] = \\sum\\limits_{m'=0}^{d-1} \\sum\\limits_{n'=0}^{d-1} x_1[m', n']_d x_2[m'+m, n'+n]_d , \\, m, n \\in \\{0, 1, ..., d-1\\}\n",
    "\\tag 2\n",
    "\\end{align}\n",
    "where $x[m, n]_d = x[m \\textrm{ mod } d, n \\textrm{ mod } d]$ and $m \\textrm{ mod } d$ is the remainder of dividing $m$ by $d$. Note that the above definition for the CCF implies a periodic boundary condition. In other words, we assume that the signals $x_1$ and $x_2$ are periodic with period $d$.\n",
    "\n",
    "Let's first visualize an example of $x_1$ and $x_2$."
   ]
  },
  {
   "cell_type": "code",
   "execution_count": null,
   "metadata": {},
   "outputs": [],
   "source": [
    "# load images\n",
    "mat = scipy.io.loadmat('problem3_12.mat')\n",
    "x1 = mat['x1']\n",
    "x2 = mat['x2']"
   ]
  },
  {
   "cell_type": "code",
   "execution_count": null,
   "metadata": {},
   "outputs": [],
   "source": [
    "fix, axes = plt.subplots(1, 2, figsize=(10, 5))\n",
    "axes[0].imshow(x1, cmap='gray')\n",
    "axes[0].set_title('x1')\n",
    "\n",
    "axes[1].imshow(x2, cmap='gray')\n",
    "axes[1].set_title('x2')"
   ]
  },
  {
   "cell_type": "markdown",
   "metadata": {},
   "source": [
    "### Problem 3-1: Cross-correlation function of two images  (5 points)\n",
    "\n",
    "Given two images $x_1$ and $x_2$, write a function which computes their CCF based on Eq. (2).\n",
    "\n",
    "Inputs:\n",
    "* $x_1$ and $x_2$, two numpy.ndarrays of shape $d \\times d$\n",
    "\n",
    "Output:\n",
    "* The CCF, a numpy.ndarray of shape $d \\times d$\n",
    "\n",
    "Add your code to `Question3.CCF_2d` in `main.py`."
   ]
  },
  {
   "cell_type": "code",
   "execution_count": null,
   "metadata": {},
   "outputs": [],
   "source": [
    "ccf = q3.CCF_2d(x1, x2)\n",
    "\n",
    "plt.figure()\n",
    "plt.imshow(ccf)\n",
    "plt.colorbar()\n",
    "plt.show()"
   ]
  },
  {
   "cell_type": "markdown",
   "metadata": {},
   "source": [
    "### Problem 3-2: Align two images  (5 points)\n",
    "Given two images, align them so that they have the maximum cross correlation. You can use the function you wrote in problem 3-1.\n",
    "\n",
    "Inputs:\n",
    "* $x_1$ and $x_2$, two numpy.ndarrays of shape $d \\times d$.\n",
    "\n",
    "Output:\n",
    "* Align $x_2$ with $x_1$. The aligned image is a numpy.ndarray of shape $d \\times d$. \n",
    "\n",
    "Add your code to `Question3.align_2d` in `main.py`.\n",
    "\n",
    "Optional: Can you solve Problem 3-2 using FFT and its properties?"
   ]
  },
  {
   "cell_type": "code",
   "execution_count": null,
   "metadata": {},
   "outputs": [],
   "source": [
    "aligned_img = q3.align_2d(x1, x2)\n",
    "\n",
    "fix, axes = plt.subplots(1, 4, figsize=(16, 4))\n",
    "im = axes[0].imshow(x1, cmap='gray')\n",
    "axes[0].set_title('x1')\n",
    "plt.colorbar(im, ax=axes[0])\n",
    "\n",
    "im = axes[1].imshow(x2, cmap='gray')\n",
    "axes[1].set_title('x2')\n",
    "plt.colorbar(im, ax=axes[1])\n",
    "\n",
    "im = axes[2].imshow(aligned_img, cmap='gray')\n",
    "axes[2].set_title('aligned')\n",
    "plt.colorbar(im, ax=axes[2])\n",
    "\n",
    "im = axes[3].imshow(np.abs(aligned_img-x1), cmap='gray')\n",
    "axes[3].set_title(r'$| \\textrm{aligned - x1} |$')\n",
    "plt.colorbar(im, ax=axes[3])"
   ]
  },
  {
   "cell_type": "markdown",
   "metadata": {},
   "source": [
    "### Problem 3-3: Detecting particle images (10 points)\n",
    "In this problem, based on what we learned in the lectures, we try to detect whether an image contains a particle or not. \n",
    "\n",
    "Let's assume we are given a set of $M$ reference images $\\{f_k\\}_{k=1}^k$ and a query image $g$. The problem is stated as: does $g$ contain a particle or is it pure noise?\n",
    "\n",
    "To find the answer to this question, we take the following steps:\n",
    "* Compute the CCF between $g$ and all refernce images, i.e.\n",
    "\\begin{align}\n",
    "c_{f_k, g}[m, n] = \\sum\\limits_{m'=0}^{d-1} \\sum\\limits_{n'=0}^{d-1} f_m[m', n']_d g[m'+m, n'+n]_d , \\quad \\forall k \\in \\{1, ..., M\\}\n",
    "\\tag 3\n",
    "\\end{align}\n",
    "\n",
    "You can use the function you used in the problem 3-1.\n",
    "* Normalize the CCF following:\n",
    "\\begin{align}\n",
    "\\widehat{c}_{f_k, g} = c_{f_k, g} - \\frac{1}{d^2} \\sum\\limits_{m=0}^{d-1} \\sum\\limits_{n=0}^{d-1} c_{f_k, g}[m, n] , \\quad \\forall k \\in \\{1, ..., M\\}\n",
    "\\tag 4\n",
    "\\end{align}\n",
    "\n",
    "* Define the respone signal as:\n",
    "\\begin{align}\n",
    "s_g(k) = \\max_{m, n} \\widehat{c}_{f_k, g} [m, n], \\quad k=1, ..., M\n",
    "\\tag 5\n",
    "\\end{align}\n",
    "\n",
    "* Check the response signal. If it has large peaks, then the query image is likely to contain a particle. One can also determine this by plotting the histogram of $s_g$ values.\n",
    "\n",
    "Follow the above steps and answer the two problems below.\n",
    "\n",
    "<b>Question 1-</b> Write a function that takes as input the reference images and the query image and outputs the response signal.\n",
    "\n",
    "Inputs:\n",
    "* Reference images. A numpy.ndarray of shape $d \\times d \\times M$\n",
    "* A query image. A numpy.ndarray of shape $d \\times d$\n",
    "\n",
    "Output:\n",
    "* Response signal. A numpy.ndarray of length $M$. \n",
    "\n",
    "Add your code to `Question3.response_signal` in `main.py`. \n",
    "    \n",
    "<b>Question 2-</b> Does img1 and img2 (visualized below) contain a particle? Explain based on the response signal defined earlier and include any visualizations below. This problem is NOT graded by autograder and graded after the submission deadline."
   ]
  },
  {
   "cell_type": "code",
   "execution_count": null,
   "metadata": {},
   "outputs": [],
   "source": [
    "# load data\n",
    "mat = scipy.io.loadmat('problem3_3.mat')\n",
    "img1 = mat['img1']\n",
    "img2 = mat['img2']\n",
    "ref_images = mat['ref_images']\n",
    "\n",
    "fix, axes = plt.subplots(1, 3, figsize=(12, 4))\n",
    "im = axes[0].imshow(img1, cmap='gray')\n",
    "axes[0].set_title('img1')\n",
    "plt.colorbar(im, ax=axes[0])\n",
    "\n",
    "im = axes[1].imshow(img2, cmap='gray')\n",
    "axes[1].set_title('img2')\n",
    "plt.colorbar(im, ax=axes[1])\n",
    "\n",
    "im = axes[2].imshow(ref_images[:, :, 1], cmap='gray')\n",
    "axes[2].set_title('ref \\#1')\n",
    "plt.colorbar(im, ax=axes[2])"
   ]
  },
  {
   "cell_type": "code",
   "execution_count": null,
   "metadata": {},
   "outputs": [],
   "source": [
    "rs1 = q3.response_signal(ref_images, img1)\n",
    "rs2 = q3.response_signal(ref_images, img2)"
   ]
  },
  {
   "cell_type": "code",
   "execution_count": null,
   "metadata": {},
   "outputs": [],
   "source": [
    "fig, axes = plt.subplots(1, 2, figsize=(12, 4))\n",
    "\n",
    "axes[0].plot(rs1)\n",
    "axes[0].set_title('Response signal of img1')\n",
    "\n",
    "axes[1].plot(rs2)\n",
    "axes[1].set_title('Response signal of img2')\n",
    "\n",
    "plt.show()"
   ]
  },
  {
   "cell_type": "markdown",
   "metadata": {},
   "source": [
    "## And this concludes Lab 11! Congratulations!"
   ]
  }
 ],
 "metadata": {
  "kernelspec": {
   "display_name": "Python 3",
   "language": "python",
   "name": "python3"
  },
  "language_info": {
   "codemirror_mode": {
    "name": "ipython",
    "version": 3
   },
   "file_extension": ".py",
   "mimetype": "text/x-python",
   "name": "python",
   "nbconvert_exporter": "python",
   "pygments_lexer": "ipython3",
   "version": "3.8.6"
  }
 },
 "nbformat": 4,
 "nbformat_minor": 1
}
