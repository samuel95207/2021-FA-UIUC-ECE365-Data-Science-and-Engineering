{
 "cells": [
  {
   "cell_type": "markdown",
   "source": [
    "# Lab 1: Introduction to Python"
   ],
   "metadata": {}
  },
  {
   "cell_type": "markdown",
   "source": [
    "Welcome to the Spring 2021 offering of ECE 365: Data Science and Engineering.\n",
    "\n",
    "In this course, we will be using Python 3 as our programming environment for our labs. \n",
    "\n",
    "The labs will be distributed as <a href=\"https://jupyter.org/\">Jupyter (IPython) Notebooks</a> linked to a Python script. This is a nice way to organize Python code and visualize outputs. In the Machine Learning section of the course, only the Python script is required for submission."
   ],
   "metadata": {}
  },
  {
   "cell_type": "markdown",
   "source": [
    "For this course, we expect mathematical maturity at the level of Junior ECE students: familiarity with basic probability (at the level of ECE 313) and basic linear algebra (at the level of MATH 415, i.e. you know how to multiply matrices, transposes, determinants, equations in matrix form, etc.). \n",
    "\n",
    "For the programming assignments, we do not expect you to be familiar with Python before the course. However, we expect you to have some knowledge of programming (i.e. you know what a function is, if statements, loops, etc.). "
   ],
   "metadata": {}
  },
  {
   "cell_type": "markdown",
   "source": [
    "**This lab will not be graded -- it serves to introduce you to Python. Do not turn in this lab.**"
   ],
   "metadata": {}
  },
  {
   "cell_type": "markdown",
   "source": [
    "## Using Jupyter Notebooks"
   ],
   "metadata": {}
  },
  {
   "cell_type": "markdown",
   "source": [
    "A Jupyter notebook consists of a collection of *cells*. Cells are blocks of code, Markdown (text with formatting, can use HTML) or headings.  Generally, problem statements and directions will be written in cells made of Markdown and headings.\n",
    "\n",
    "To insert a cell, use the Insert menu, and you can insert a cell above or below the current cell. To change the type of cell (code or Markdown), use the dropdown on the toolbar or go to Cell->Cell Type->(Desired Type of cell). A cell can be deleted by using the Edit menu.\n",
    "\n",
    "To run a code cell, click on it and press the Play button (or hit Shift+Enter). You can also run all cells or run a cell from the cell menu. You can run the cells in different orders than they appear in the notebook (though for readability, you want your notebook to usually be executed from the top down). Note that code cells do support tab completion.\n"
   ],
   "metadata": {}
  },
  {
   "cell_type": "code",
   "execution_count": 1285,
   "source": [
    "# This is an example of a code cell. You can put Python code here, and run it. # denotes the start of a comment in Python.\n",
    "# The order in which you ran the cells will be put in bracket next to In [], such as In[2]\n",
    "# and the corresponding output will appear below. \n",
    "\n",
    "# Example (run this):\n",
    "print(\"Hello World!\")\n",
    "\n",
    "# Note that in Python 3, \"print\" is used as a function.\n",
    "# In Python 2, you need to write\n",
    "# print \"Hello World!\""
   ],
   "outputs": [
    {
     "output_type": "stream",
     "name": "stdout",
     "text": [
      "Hello World!\n"
     ]
    }
   ],
   "metadata": {
    "collapsed": true
   }
  },
  {
   "cell_type": "markdown",
   "source": [
    "To edit a Markdown cell or Heading cell, double click on it. When you're done, press the Play button (or hit Shift+Enter) to display it with appropriate formatting."
   ],
   "metadata": {}
  },
  {
   "cell_type": "markdown",
   "source": [
    "Jupyter Notebooks have checkpoints built in (i.e. they save every few minutes automatically), but you can also save them using the save icon. \n",
    "\n",
    "\n",
    "You can find many examples of Jupyter Notebooks <a href=\"https://github.com/jupyter/jupyter/wiki/A-gallery-of-interesting-Jupyter-Notebooks\">here</a>. "
   ],
   "metadata": {}
  },
  {
   "cell_type": "markdown",
   "source": [
    "## Introduction to Python"
   ],
   "metadata": {}
  },
  {
   "cell_type": "markdown",
   "source": [
    "For this course, we will only be using a small subset of Python. A good tutorial for the parts of the Python language you will need is available at <a href=\"http://swcarpentry.github.io/python-novice-inflammation/\">Software Carpentry</a> (primarily sections 1,2,5,6). I encourage you to complete the Software Carpentry tutorial. \n",
    "\n",
    "Another good resource is the <a href=\"https://github.com/illinois-cse/python-sp17\">UIUC CSE Workshops</a> (particularly Introduction to Python, Numerical & Scientific Programming with Python and Plotting in Python).\n",
    "\n",
    "If you want the whole nine yards, you can look at the <a href=\"https://docs.python.org/3.6/tutorial/index.html\">official Python documentation</a> or <a href=\"https://learncodethehardway.org/python/\">Learn Python the Hard Way</a>. \n",
    "\n",
    "Python is a common choice for big data work because it is easy to learn, has reasonable performance and there is a wide variety of packages available to do <a href=\"https://xkcd.com/353/\">pretty much anything you want</a>:\n",
    "<img src=\"xkcd.png\">"
   ],
   "metadata": {}
  },
  {
   "cell_type": "markdown",
   "source": [
    "In the first part of the course, we will be using the following packages (libraries, modules):\n",
    "* <a href=\"http://www.numpy.org/\">NumPy</a> - For matrices, vectors, mathematical operations on them, etc.\n",
    "* <a href=\"http://www.scipy.org/scipylib/index.html\">SciPy</a> - More math functions (e.g. calculate distances between data points)\n",
    "* <a href=\"http://scikit-learn.org/stable/\">Scikit-Learn</a> - Smorgasboard of machine learning tools (SVMs, K-Means, K-NN, PCA etc.)\n",
    "* <a href=\"http://matplotlib.org/\">Matplotlib</a> - Easy way to make plots."
   ],
   "metadata": {}
  },
  {
   "cell_type": "markdown",
   "source": [
    "### Basic Language Features"
   ],
   "metadata": {}
  },
  {
   "cell_type": "markdown",
   "source": [
    "To load a library \"numpy\", you can use \"import numpy\". Then, functions in numpy can be accessed as numpy.function().\n",
    "\n",
    "However, typing out the whole library name every time is annoying. So, we can use \"as\" to give it our own name. "
   ],
   "metadata": {}
  },
  {
   "cell_type": "code",
   "execution_count": 1286,
   "source": [
    "import numpy as np"
   ],
   "outputs": [],
   "metadata": {
    "collapsed": true
   }
  },
  {
   "cell_type": "markdown",
   "source": [
    "This loads numpy with the name np. If we want to calculate $\\sqrt{10}$ using numpy's square root function, we can now do"
   ],
   "metadata": {}
  },
  {
   "cell_type": "code",
   "execution_count": 1287,
   "source": [
    "np.sqrt(10)"
   ],
   "outputs": [
    {
     "output_type": "execute_result",
     "data": {
      "text/plain": [
       "3.1622776601683795"
      ]
     },
     "metadata": {},
     "execution_count": 1287
    }
   ],
   "metadata": {
    "collapsed": true
   }
  },
  {
   "cell_type": "markdown",
   "source": [
    "Unlike C, Python does not require you to declare variables. To make a variable x with value $5^2$, we can simply do"
   ],
   "metadata": {}
  },
  {
   "cell_type": "code",
   "execution_count": 1288,
   "source": [
    "x=5**2\n",
    "print(x)"
   ],
   "outputs": [
    {
     "output_type": "stream",
     "name": "stdout",
     "text": [
      "25\n"
     ]
    }
   ],
   "metadata": {
    "collapsed": true
   }
  },
  {
   "cell_type": "markdown",
   "source": [
    "Scopes of code are also determined by indentation. For example, the following C code, which uses a loop to print the numbers from 1 to 10:\n",
    "```\n",
    "int i;\n",
    "printf(\"Let's print the numbers 1 to 10!\\n\");\n",
    "for (i=1;i<=10;i++)\n",
    "{\n",
    "    printf(\"%i\\n\",i);\n",
    "}\n",
    "printf(\"Done!\\n\");\n",
    "```\n",
    "becomes"
   ],
   "metadata": {}
  },
  {
   "cell_type": "code",
   "execution_count": 1289,
   "source": [
    "print(\"Let's print the numbers 1 to 10!\")\n",
    "for i in range(1,11):\n",
    "    print (i)\n",
    "print (\"Done!\")"
   ],
   "outputs": [
    {
     "output_type": "stream",
     "name": "stdout",
     "text": [
      "Let's print the numbers 1 to 10!\n",
      "1\n",
      "2\n",
      "3\n",
      "4\n",
      "5\n",
      "6\n",
      "7\n",
      "8\n",
      "9\n",
      "10\n",
      "Done!\n"
     ]
    }
   ],
   "metadata": {
    "collapsed": true
   }
  },
  {
   "cell_type": "markdown",
   "source": [
    "Note that we did not need semicolons, and tab(=4 spaces) was used rather than braces to denote the body of the loop. `range(n)` gives a class which contains a list of numbers $0,1,\\ldots,n-1$ and `range(n,m)` gives a class which contains a list of numbers $n,n+1,\\ldots,m-2,m-1$. The keyword `in` makes `i` take on all the values in `range(1,11)`.\n",
    "\n",
    "We can also do if-else statements. Consider the following C code:\n",
    "```\n",
    "x=2;\n",
    "if (x==0)\n",
    "{\n",
    "    printf(\"zero\\n\");\n",
    "} else if (x==1)\n",
    "{\n",
    "    printf(\"one\");\n",
    "} else \n",
    "{\n",
    "    printf(\"not zero or one\");\n",
    "}\n",
    "```\n",
    "\n",
    "In Python, we use indentation rather than braces. Else if is also shortened to elif:"
   ],
   "metadata": {}
  },
  {
   "cell_type": "code",
   "execution_count": 1290,
   "source": [
    "x=1\n",
    "if x==0:\n",
    "    print (\"zero\")\n",
    "elif x==1:\n",
    "    print (\"one\")\n",
    "else:\n",
    "    print (\"not zero or one\")"
   ],
   "outputs": [
    {
     "output_type": "stream",
     "name": "stdout",
     "text": [
      "one\n"
     ]
    }
   ],
   "metadata": {
    "collapsed": true
   }
  },
  {
   "cell_type": "markdown",
   "source": [
    "Here's a little exercise for you to try using a for loop and if statement. Note that logical and, or and not are given by ``and``, ``or``, ``not`` respectively in Python (rather than ``&&,||,!`` in C). The ``break`` and ``continue`` keywords work as in C. Modulus is ``%``. \n",
    "\n",
    "Exercise 1 (<a href=\"http://c2.com/cgi/wiki?FizzBuzzTest\">FizzBuzz</a>): Prints the numbers from 1 to 100. For multiples of three, print “Fizz” instead of the number and for the multiples of five print “Buzz” instead. For numbers which are multiples of both three and five, print “FizzBuzz”."
   ],
   "metadata": {}
  },
  {
   "cell_type": "code",
   "execution_count": 1336,
   "source": [
    "#Put your code here\n",
    "for i in range(1, 101):\n",
    "    if i % 15 == 0:\n",
    "        print(\"FizzBuzz\")\n",
    "    elif i % 3 == 0:\n",
    "        print(\"Fizz\")\n",
    "    elif i % 5 == 0:\n",
    "        print(\"Buzz\")\n",
    "    else:\n",
    "        print(i)"
   ],
   "outputs": [
    {
     "output_type": "stream",
     "name": "stdout",
     "text": [
      "1\n",
      "2\n",
      "Fizz\n",
      "4\n",
      "Buzz\n",
      "Fizz\n",
      "7\n",
      "8\n",
      "Fizz\n",
      "Buzz\n",
      "11\n",
      "Fizz\n",
      "13\n",
      "14\n",
      "FizzBuzz\n",
      "16\n",
      "17\n",
      "Fizz\n",
      "19\n",
      "Buzz\n",
      "Fizz\n",
      "22\n",
      "23\n",
      "Fizz\n",
      "Buzz\n",
      "26\n",
      "Fizz\n",
      "28\n",
      "29\n",
      "FizzBuzz\n",
      "31\n",
      "32\n",
      "Fizz\n",
      "34\n",
      "Buzz\n",
      "Fizz\n",
      "37\n",
      "38\n",
      "Fizz\n",
      "Buzz\n",
      "41\n",
      "Fizz\n",
      "43\n",
      "44\n",
      "FizzBuzz\n",
      "46\n",
      "47\n",
      "Fizz\n",
      "49\n",
      "Buzz\n",
      "Fizz\n",
      "52\n",
      "53\n",
      "Fizz\n",
      "Buzz\n",
      "56\n",
      "Fizz\n",
      "58\n",
      "59\n",
      "FizzBuzz\n",
      "61\n",
      "62\n",
      "Fizz\n",
      "64\n",
      "Buzz\n",
      "Fizz\n",
      "67\n",
      "68\n",
      "Fizz\n",
      "Buzz\n",
      "71\n",
      "Fizz\n",
      "73\n",
      "74\n",
      "FizzBuzz\n",
      "76\n",
      "77\n",
      "Fizz\n",
      "79\n",
      "Buzz\n",
      "Fizz\n",
      "82\n",
      "83\n",
      "Fizz\n",
      "Buzz\n",
      "86\n",
      "Fizz\n",
      "88\n",
      "89\n",
      "FizzBuzz\n",
      "91\n",
      "92\n",
      "Fizz\n",
      "94\n",
      "Buzz\n",
      "Fizz\n",
      "97\n",
      "98\n",
      "Fizz\n",
      "Buzz\n"
     ]
    }
   ],
   "metadata": {
    "collapsed": true
   }
  },
  {
   "cell_type": "markdown",
   "source": [
    "Nesting loops works the same way that it does in C:"
   ],
   "metadata": {}
  },
  {
   "cell_type": "code",
   "execution_count": 1292,
   "source": [
    "for row in range(1,5):\n",
    "    for col in range(1,5):\n",
    "        print (\"(\",row,\",\",col,\") \",)\n",
    "    print (\"\\n\")"
   ],
   "outputs": [
    {
     "output_type": "stream",
     "name": "stdout",
     "text": [
      "( 1 , 1 ) \n",
      "( 1 , 2 ) \n",
      "( 1 , 3 ) \n",
      "( 1 , 4 ) \n",
      "\n",
      "\n",
      "( 2 , 1 ) \n",
      "( 2 , 2 ) \n",
      "( 2 , 3 ) \n",
      "( 2 , 4 ) \n",
      "\n",
      "\n",
      "( 3 , 1 ) \n",
      "( 3 , 2 ) \n",
      "( 3 , 3 ) \n",
      "( 3 , 4 ) \n",
      "\n",
      "\n",
      "( 4 , 1 ) \n",
      "( 4 , 2 ) \n",
      "( 4 , 3 ) \n",
      "( 4 , 4 ) \n",
      "\n",
      "\n"
     ]
    }
   ],
   "metadata": {
    "collapsed": true
   }
  },
  {
   "cell_type": "markdown",
   "source": [
    "Most arithmetic works the same way as it does in C. \n",
    "\n",
    "For Python 2, one thing \"quirk\" is in division: if both numbers are integers, the result will be an integer. While this is consistent with int/int or long/long in C, it can be confusing since we don't declare things to have a type in Python.\n",
    "\n",
    "5/9 will result in 0 in Python 2.\n",
    "\n",
    "5.0/9 will be 0.5555555555555556 in Python 2.\n",
    "\n",
    "Try this example in Python 3:"
   ],
   "metadata": {}
  },
  {
   "cell_type": "code",
   "execution_count": 1293,
   "source": [
    "5/9"
   ],
   "outputs": [
    {
     "output_type": "execute_result",
     "data": {
      "text/plain": [
       "0.5555555555555556"
      ]
     },
     "metadata": {},
     "execution_count": 1293
    }
   ],
   "metadata": {
    "collapsed": true
   }
  },
  {
   "cell_type": "code",
   "execution_count": 1294,
   "source": [
    "5.0/9"
   ],
   "outputs": [
    {
     "output_type": "execute_result",
     "data": {
      "text/plain": [
       "0.5555555555555556"
      ]
     },
     "metadata": {},
     "execution_count": 1294
    }
   ],
   "metadata": {
    "collapsed": true
   }
  },
  {
   "cell_type": "code",
   "execution_count": 1295,
   "source": [
    "5//9"
   ],
   "outputs": [
    {
     "output_type": "execute_result",
     "data": {
      "text/plain": [
       "0"
      ]
     },
     "metadata": {},
     "execution_count": 1295
    }
   ],
   "metadata": {
    "collapsed": true
   }
  },
  {
   "cell_type": "markdown",
   "source": [
    "Most useful codes consist of functions. These are declared with the ``def`` keyword. For example, lets say we didn't know that $x^2$ could be calculated in Python as ``x**2`` and we wanted to write a function ``square`` to do this:"
   ],
   "metadata": {}
  },
  {
   "cell_type": "code",
   "execution_count": 1296,
   "source": [
    "def square(x):\n",
    "    s=x*x\n",
    "    return s"
   ],
   "outputs": [],
   "metadata": {
    "collapsed": true
   }
  },
  {
   "cell_type": "markdown",
   "source": [
    "And we can call this function to calculate $4^2$ as"
   ],
   "metadata": {}
  },
  {
   "cell_type": "code",
   "execution_count": 1297,
   "source": [
    "square(4)"
   ],
   "outputs": [
    {
     "output_type": "execute_result",
     "data": {
      "text/plain": [
       "16"
      ]
     },
     "metadata": {},
     "execution_count": 1297
    }
   ],
   "metadata": {
    "collapsed": true
   }
  },
  {
   "cell_type": "markdown",
   "source": [
    "Another way to declare a function in Python is to use the lambda expressions:"
   ],
   "metadata": {}
  },
  {
   "cell_type": "code",
   "execution_count": 1298,
   "source": [
    "also_a_square = lambda x : x**2\n",
    "also_a_square(4)"
   ],
   "outputs": [
    {
     "output_type": "execute_result",
     "data": {
      "text/plain": [
       "16"
      ]
     },
     "metadata": {},
     "execution_count": 1298
    }
   ],
   "metadata": {
    "collapsed": true
   }
  },
  {
   "cell_type": "markdown",
   "source": [
    "One good thing about the lambda expressions is that you can pass these function around (however, not recommended for beginners). For example:"
   ],
   "metadata": {}
  },
  {
   "cell_type": "code",
   "execution_count": 1299,
   "source": [
    "def pwr(n):\n",
    "    return lambda x:x**n"
   ],
   "outputs": [],
   "metadata": {
    "collapsed": true
   }
  },
  {
   "cell_type": "code",
   "execution_count": 1300,
   "source": [
    "f2 = pwr(2)\n",
    "f2(4)"
   ],
   "outputs": [
    {
     "output_type": "execute_result",
     "data": {
      "text/plain": [
       "16"
      ]
     },
     "metadata": {},
     "execution_count": 1300
    }
   ],
   "metadata": {
    "collapsed": true
   }
  },
  {
   "cell_type": "code",
   "execution_count": 1301,
   "source": [
    "f3 = f2\n",
    "f3(4)"
   ],
   "outputs": [
    {
     "output_type": "execute_result",
     "data": {
      "text/plain": [
       "16"
      ]
     },
     "metadata": {},
     "execution_count": 1301
    }
   ],
   "metadata": {
    "collapsed": true
   }
  },
  {
   "cell_type": "markdown",
   "source": [
    "For a comparison of regular functions and lambda expressions, see https://treyhunner.com/2018/09/stop-writing-lambda-expressions/#The_pros_and_cons_of_lambda."
   ],
   "metadata": {}
  },
  {
   "cell_type": "markdown",
   "source": [
    "While not necessary for the first part of the course, it may be useful to learn how <a href=\"https://www.jeffknupp.com/blog/2012/11/13/is-python-callbyvalue-or-callbyreference-neither/\">functions treat their parameters in Python</a>. \n",
    "\n"
   ],
   "metadata": {}
  },
  {
   "cell_type": "markdown",
   "source": [
    "Now, we need to talk about lists. For example, we can have a list of numbers $0,\\ldots,5$, $a$:"
   ],
   "metadata": {}
  },
  {
   "cell_type": "code",
   "execution_count": 1302,
   "source": [
    "a=[0,1,2,3,4,5]"
   ],
   "outputs": [],
   "metadata": {
    "collapsed": true
   }
  },
  {
   "cell_type": "markdown",
   "source": [
    "or more succinctly"
   ],
   "metadata": {}
  },
  {
   "cell_type": "code",
   "execution_count": 1303,
   "source": [
    "a=list(range(6))"
   ],
   "outputs": [],
   "metadata": {
    "collapsed": true
   }
  },
  {
   "cell_type": "code",
   "execution_count": 1304,
   "source": [
    "print(a)"
   ],
   "outputs": [
    {
     "output_type": "stream",
     "name": "stdout",
     "text": [
      "[0, 1, 2, 3, 4, 5]\n"
     ]
    }
   ],
   "metadata": {
    "collapsed": true
   }
  },
  {
   "cell_type": "markdown",
   "source": [
    "Lists have indices starting from 0."
   ],
   "metadata": {}
  },
  {
   "cell_type": "code",
   "execution_count": 1305,
   "source": [
    "print(a[0],a[1],a[4])"
   ],
   "outputs": [
    {
     "output_type": "stream",
     "name": "stdout",
     "text": [
      "0 1 4\n"
     ]
    }
   ],
   "metadata": {
    "collapsed": true
   }
  },
  {
   "cell_type": "markdown",
   "source": [
    "But you can also access them backwards with negative numbers"
   ],
   "metadata": {}
  },
  {
   "cell_type": "code",
   "execution_count": 1306,
   "source": [
    "print(a[0],a[-1],a[-2])"
   ],
   "outputs": [
    {
     "output_type": "stream",
     "name": "stdout",
     "text": [
      "0 5 4\n"
     ]
    }
   ],
   "metadata": {
    "collapsed": true
   }
  },
  {
   "cell_type": "markdown",
   "source": [
    "Like MATLAB, you can *slice* a list with start:end:step (in MATLAB it is start:step:end). This gives you a list consisting of the elements start, start+step, start + 2 step, ..., up to end (not included!). Omitting step will give step=1. Omitting start and end will give the beginning and end of the array respectively. For example, to print the even indexed elements:"
   ],
   "metadata": {}
  },
  {
   "cell_type": "code",
   "execution_count": 1307,
   "source": [
    "print(a[::2])"
   ],
   "outputs": [
    {
     "output_type": "stream",
     "name": "stdout",
     "text": [
      "[0, 2, 4]\n"
     ]
    }
   ],
   "metadata": {
    "collapsed": true
   }
  },
  {
   "cell_type": "markdown",
   "source": [
    "and to access a[1],a[2] **(Key: end is not included!)**"
   ],
   "metadata": {}
  },
  {
   "cell_type": "code",
   "execution_count": 1308,
   "source": [
    "print(a[1:3])"
   ],
   "outputs": [
    {
     "output_type": "stream",
     "name": "stdout",
     "text": [
      "[1, 2]\n"
     ]
    }
   ],
   "metadata": {
    "collapsed": true
   }
  },
  {
   "cell_type": "markdown",
   "source": [
    "And you can modify the list through a slice"
   ],
   "metadata": {}
  },
  {
   "cell_type": "code",
   "execution_count": 1309,
   "source": [
    "a[1:3]=[6,7]\n",
    "print(a)"
   ],
   "outputs": [
    {
     "output_type": "stream",
     "name": "stdout",
     "text": [
      "[0, 6, 7, 3, 4, 5]\n"
     ]
    }
   ],
   "metadata": {
    "collapsed": true
   }
  },
  {
   "cell_type": "markdown",
   "source": [
    "Exercise 2: Write a function `rev(x)` which reverses an input list `x` (use a slice)."
   ],
   "metadata": {}
  },
  {
   "cell_type": "code",
   "execution_count": 1339,
   "source": [
    "def rev(x):\n",
    "    #Put your code here\n",
    "    return x[::-1]"
   ],
   "outputs": [],
   "metadata": {
    "collapsed": true
   }
  },
  {
   "cell_type": "code",
   "execution_count": 1340,
   "source": [
    "x=\"hello world!\" #strings aren't lists, but you can slice them. \n",
    "print(rev(x))\n",
    "print(x)"
   ],
   "outputs": [
    {
     "output_type": "stream",
     "name": "stdout",
     "text": [
      "!dlrow olle\n",
      "hello world!\n"
     ]
    }
   ],
   "metadata": {
    "collapsed": true
   }
  },
  {
   "cell_type": "markdown",
   "source": [
    "**Be careful with \"copying\" items in Python.** Python uses something called <a href=\"https://docs.python.org/3.6/library/copy.html\">deep and shallow copies</a>. Roughly speaking, when you do\n",
    "```\n",
    "y=x\n",
    "```\n",
    "`y` points to the same thing as `x`. If `x` is a compound object (e.g. a list), then changing y can change x.\n",
    "\n",
    "To avoid this, use \n",
    "```\n",
    "import copy\n",
    "y=copy.copy(x) # shallow copy\n",
    "y=copy.deepcopy(x) # deep copy\n",
    "```\n",
    "\n",
    "which makes a deep copy (or an appropriate copy constructor). \n",
    "\n",
    "Note that `is` will return True if two variables point to the same object, `==` if the objects referred to by the variables are equal."
   ],
   "metadata": {}
  },
  {
   "cell_type": "code",
   "execution_count": 1312,
   "source": [
    "# Simple \n",
    "x=5\n",
    "y=x\n",
    "print (\"x is y:\", x is y)\n",
    "y=2\n",
    "print (\"x=\",x)\n",
    "print (\"y=\",y)\n",
    "\n",
    "# A list\n",
    "x=[4,5,6]\n",
    "y=x\n",
    "print (\"x is y:\", x is y)\n",
    "y[1]=2\n",
    "print (\"x=\",x)\n",
    "print (\"y=\",y)\n",
    "\n",
    "# Copying a list with copy.copy\n",
    "import copy\n",
    "x=[4,5,6]\n",
    "y=copy.copy(x)\n",
    "print (\"x is y:\", x is y)\n",
    "y[1]=2\n",
    "print (\"x=\",x)\n",
    "print (\"y=\",y)\n",
    "\n",
    "# Copying a list with an appropriate constructor\n",
    "x=[4,5,6]\n",
    "y=list(x)\n",
    "print (\"x is y:\", x is y)\n",
    "y[1]=2\n",
    "print (\"x=\",x)\n",
    "print (\"y=\",y)"
   ],
   "outputs": [
    {
     "output_type": "stream",
     "name": "stdout",
     "text": [
      "x is y: True\n",
      "x= 5\n",
      "y= 2\n",
      "x is y: True\n",
      "x= [4, 2, 6]\n",
      "y= [4, 2, 6]\n",
      "x is y: False\n",
      "x= [4, 5, 6]\n",
      "y= [4, 2, 6]\n",
      "x is y: False\n",
      "x= [4, 5, 6]\n",
      "y= [4, 2, 6]\n"
     ]
    }
   ],
   "metadata": {
    "collapsed": true
   }
  },
  {
   "cell_type": "markdown",
   "source": [
    "Finally, to help this jupyter notebook to connect to your Python script, you can use %run `<script_name`>. In all our labs, the linked script will be named as *main.py*. **Do not change the file name!**"
   ],
   "metadata": {}
  },
  {
   "cell_type": "code",
   "execution_count": 1313,
   "source": [
    "%run main.py"
   ],
   "outputs": [
    {
     "output_type": "display_data",
     "data": {
      "text/plain": [
       "<Figure size 432x288 with 0 Axes>"
      ]
     },
     "metadata": {}
    }
   ],
   "metadata": {
    "collapsed": true
   }
  },
  {
   "cell_type": "markdown",
   "source": [
    "The following line creates an object from the class in *main.py*. **Do not change the class name and function headers!**"
   ],
   "metadata": {}
  },
  {
   "cell_type": "code",
   "execution_count": 1314,
   "source": [
    "module = Lab1()"
   ],
   "outputs": [],
   "metadata": {
    "collapsed": true
   }
  },
  {
   "cell_type": "markdown",
   "source": [
    "Note that if you change your function in *main.py*, you need to run the above two lines again to get an updated result."
   ],
   "metadata": {}
  },
  {
   "cell_type": "markdown",
   "source": [
    "### The NumPy Library"
   ],
   "metadata": {}
  },
  {
   "cell_type": "markdown",
   "source": [
    "NumPy is the library which gives us the numpy array, and along with its partner in crime, SciPy, gives us a bunch of linear algebra tools. A quick tutorial is available <a href=\"https://docs.scipy.org/doc/numpy/user/quickstart.html\">here</a>. For those who are used to MATLAB, some common paradigms are translated from MATLAB to numpy <a href=\"https://docs.scipy.org/doc/numpy/user/numpy-for-matlab-users.html\">here</a>. I recommend you read this documentation. This is by no means an exhaustive list of functions you will be using from numpy in the course.\n",
    "\n",
    "You can load the `numpy` library with the name `np` with\n",
    "```\n",
    "import numpy as np\n",
    "```\n",
    "which we did earlier."
   ],
   "metadata": {}
  },
  {
   "cell_type": "markdown",
   "source": [
    "The fundamental data type we will be using is the numpy array, which can represent vectors, matrices, tensors, etc. You can make a numpy array in several ways:\n",
    "```\n",
    "np.zeros( k ), np.ones(k) : make a vector of k zeros\n",
    "np.zeros ( (k,l) ) , np.ones( (k,l) ): make a matrix with k rows and l columns\n",
    "np.array( list ) : make a numpy array from list or matrix\n",
    "np.arange (stop) : make a vector of numbers 0,1,...,stop-1 \n",
    "np.copy(m) : make a copy of numpy array m\n",
    "```\n",
    "\n",
    "You can enter a matrix in as [[a,b],[c,d]] to get $\\begin{bmatrix} a & b \\\\ c & d \\end{bmatrix}$. A vector can be entered as [a,b,c]. Some examples are given below. "
   ],
   "metadata": {}
  },
  {
   "cell_type": "code",
   "execution_count": 1315,
   "source": [
    "a=np.zeros(5)\n",
    "print (\"a=\",a)\n",
    "m = np.ones( (3,2))\n",
    "print (\"m=\",m)\n",
    "v=np.array([1,2])\n",
    "print (\"v=\",v)\n",
    "n= np.array([[1,2],[3,4]])\n",
    "print (\"n=\",n)"
   ],
   "outputs": [
    {
     "output_type": "stream",
     "name": "stdout",
     "text": [
      "a= [0. 0. 0. 0. 0.]\n",
      "m= [[1. 1.]\n",
      " [1. 1.]\n",
      " [1. 1.]]\n",
      "v= [1 2]\n",
      "n= [[1 2]\n",
      " [3 4]]\n"
     ]
    }
   ],
   "metadata": {
    "collapsed": true
   }
  },
  {
   "cell_type": "markdown",
   "source": [
    "You can get the shape and size of an array using .shape and .size"
   ],
   "metadata": {}
  },
  {
   "cell_type": "code",
   "execution_count": 1316,
   "source": [
    "print (\"v=\",v)\n",
    "print (\"v.shape=\",v.shape,\"v.size=\",v.size)\n",
    "print (\"n=\",n)\n",
    "print (\"n.shape=\",n.shape,\"n.size=\",n.size)"
   ],
   "outputs": [
    {
     "output_type": "stream",
     "name": "stdout",
     "text": [
      "v= [1 2]\n",
      "v.shape= (2,) v.size= 2\n",
      "n= [[1 2]\n",
      " [3 4]]\n",
      "n.shape= (2, 2) n.size= 4\n"
     ]
    }
   ],
   "metadata": {
    "collapsed": true
   }
  },
  {
   "cell_type": "markdown",
   "source": [
    "Note that the vector is specified as (length,). This is a useful (though counterintuitive) feature of numpy: it does not distinguish between row and column vectors, but automatically interprets the math by the way it makes sense. One can understand it better with array storage (see <a href=\"https://stackoverflow.com/a/22074424\">this answer</a>).\n",
    "\n",
    "You can also reshape an array using ```np.reshape```."
   ],
   "metadata": {}
  },
  {
   "cell_type": "code",
   "execution_count": 1317,
   "source": [
    "onethrough6=np.arange(6)+1\n",
    "print (\"The Numbers 1-6 as a Vector:\\n\", onethrough6)\n",
    "print (\"The Numbers 1-6 as a matrix:\\n\", np.reshape(onethrough6,(2,3)))\n",
    "print (\"The Numbers 1-6 as another matrix:\\n\", np.reshape(onethrough6,(3,-1))) # -1 will determine the last dim. automatically"
   ],
   "outputs": [
    {
     "output_type": "stream",
     "name": "stdout",
     "text": [
      "The Numbers 1-6 as a Vector:\n",
      " [1 2 3 4 5 6]\n",
      "The Numbers 1-6 as a matrix:\n",
      " [[1 2 3]\n",
      " [4 5 6]]\n",
      "The Numbers 1-6 as another matrix:\n",
      " [[1 2]\n",
      " [3 4]\n",
      " [5 6]]\n"
     ]
    }
   ],
   "metadata": {
    "collapsed": true
   }
  },
  {
   "cell_type": "markdown",
   "source": [
    "We can transpose a matrix by using .transpose() (or simply .T). But it doesn't do anything for vectors."
   ],
   "metadata": {}
  },
  {
   "cell_type": "code",
   "execution_count": 1318,
   "source": [
    "print (\"v=\\n\",v)\n",
    "print (\"v.transpose()=\\n\",v.transpose()) # this is just v, because numpy doesnt distinguish between row and column vectors\n",
    "print (\"n=\\n\",n )\n",
    "print (\"n.transpose()=\\n\",n.transpose()) # this is n^T\n",
    "print (\"n.T=\\n\",n.T)"
   ],
   "outputs": [
    {
     "output_type": "stream",
     "name": "stdout",
     "text": [
      "v=\n",
      " [1 2]\n",
      "v.transpose()=\n",
      " [1 2]\n",
      "n=\n",
      " [[1 2]\n",
      " [3 4]]\n",
      "n.transpose()=\n",
      " [[1 3]\n",
      " [2 4]]\n",
      "n.T=\n",
      " [[1 3]\n",
      " [2 4]]\n"
     ]
    }
   ],
   "metadata": {
    "collapsed": true
   }
  },
  {
   "cell_type": "markdown",
   "source": [
    "Array math is by default elementwise. "
   ],
   "metadata": {}
  },
  {
   "cell_type": "code",
   "execution_count": 1319,
   "source": [
    "m1= np.array([[1,2],[3,4]])\n",
    "m2= np.array([[5,6],[7,8]])\n",
    "print (\"m1=\\n\",m1)\n",
    "print (\"m2=\\n\",m2)\n",
    "print (\"m1+m2=\\n\",m1+m2)\n",
    "print (\"m1-m2=\\n\",m1-m2)\n",
    "print (\"m1/m2 elementwise:\\n\",m1/m2)\n",
    "print (\"m1*m2 elementwise:\\n\",m1*m2)"
   ],
   "outputs": [
    {
     "output_type": "stream",
     "name": "stdout",
     "text": [
      "m1=\n",
      " [[1 2]\n",
      " [3 4]]\n",
      "m2=\n",
      " [[5 6]\n",
      " [7 8]]\n",
      "m1+m2=\n",
      " [[ 6  8]\n",
      " [10 12]]\n",
      "m1-m2=\n",
      " [[-4 -4]\n",
      " [-4 -4]]\n",
      "m1/m2 elementwise:\n",
      " [[0.2        0.33333333]\n",
      " [0.42857143 0.5       ]]\n",
      "m1*m2 elementwise:\n",
      " [[ 5 12]\n",
      " [21 32]]\n"
     ]
    }
   ],
   "metadata": {
    "collapsed": true
   }
  },
  {
   "cell_type": "markdown",
   "source": [
    "To do proper matrix multiplication, use dot. If $A,B$ are matrices, A.dot(B) calculates $AB$. For a vector v (which mathematically we always assume is a column vector), and matrix A, $v^T A$ is calculated as v.dot(A) and $A v$ is calculated as A.dot(v). \n",
    "\n",
    "For two vectors v,w, the dot product is v.dot(w). For the outer product between them $v w^T$, one must do np.outer(v,w). This is a bit cumbersome.\n",
    "\n",
    "You can invert a matrix using np.linalg.inv(matrix).\n",
    "\n",
    "One note on the numerical issue. **Avoid inverting a matrix at best!** Matrix inversion is much less stable than matrix multiplication. Most often, one is inverting a matrix when solving linear equations. In that case, an equation solver is much quicker ($O(n^2)$, compared with $O(n^3)$ using inversion and multiplication) and more accurate. See <a href=\"https://scicomp.stackexchange.com/a/26428\">this post</a>."
   ],
   "metadata": {}
  },
  {
   "cell_type": "code",
   "execution_count": 1320,
   "source": [
    "print (\"m1*m2=\\n\", m1.dot(m2))\n",
    "print (\"m2*m1=\\n\", m2.dot(m1))\n",
    "print (\"v^T*m1=\\n\", v.dot(m1))\n",
    "print (\"m1*v=\\n\", m1.dot(v))\n",
    "\n",
    "v=np.array([1,2])\n",
    "w=np.array([4,7])\n",
    "print (\"v w^T\\n\", np.outer(v,w))\n",
    "print (\"inverse(m1)=\\n\",np.linalg.inv(m1))"
   ],
   "outputs": [
    {
     "output_type": "stream",
     "name": "stdout",
     "text": [
      "m1*m2=\n",
      " [[19 22]\n",
      " [43 50]]\n",
      "m2*m1=\n",
      " [[23 34]\n",
      " [31 46]]\n",
      "v^T*m1=\n",
      " [ 7 10]\n",
      "m1*v=\n",
      " [ 5 11]\n",
      "v w^T\n",
      " [[ 4  7]\n",
      " [ 8 14]]\n",
      "inverse(m1)=\n",
      " [[-2.   1. ]\n",
      " [ 1.5 -0.5]]\n"
     ]
    }
   ],
   "metadata": {
    "collapsed": true
   }
  },
  {
   "cell_type": "markdown",
   "source": [
    "You can also slice and index numpy arrays. "
   ],
   "metadata": {}
  },
  {
   "cell_type": "code",
   "execution_count": 1321,
   "source": [
    "print (\"m1=\\n\",m1)\n",
    "print (\"m1[1,1]=\\n\",m1[1,1])\n",
    "print (\"m1[:,1]=\\n\",m1[:,1])"
   ],
   "outputs": [
    {
     "output_type": "stream",
     "name": "stdout",
     "text": [
      "m1=\n",
      " [[1 2]\n",
      " [3 4]]\n",
      "m1[1,1]=\n",
      " 4\n",
      "m1[:,1]=\n",
      " [2 4]\n"
     ]
    }
   ],
   "metadata": {
    "collapsed": true
   }
  },
  {
   "cell_type": "markdown",
   "source": [
    "You can also index numpy arrays with boolean arrays or other arrays representing indices. Examples are given <a href=\"https://docs.scipy.org/doc/numpy/user/quickstart.html#fancy-indexing-and-index-tricks\">here</a>. You can use this to write your k-Nearest Neighbors code compactly in Lab 2.\n",
    "\n",
    "This list is not extensive -- if you think a function should exist in numpy, chances are it does. Check the documentation. For example, ``numpy.fliplr`` and ```numpy.flipud``` will flip an array left to right and up and down respectively. "
   ],
   "metadata": {}
  },
  {
   "cell_type": "markdown",
   "source": [
    "Here are some exercises for you to get familiar with numpy array math (and plotting)."
   ],
   "metadata": {}
  },
  {
   "cell_type": "code",
   "execution_count": 1322,
   "source": [
    "# This is a line magic -- a script which Jupyter uses to do nice things.  Line magics start with %\n",
    "# This one will give us inline plotting in the notebook. Don't worry about the warnings in this case. \n",
    "%pylab inline"
   ],
   "outputs": [
    {
     "output_type": "stream",
     "name": "stdout",
     "text": [
      "Populating the interactive namespace from numpy and matplotlib\n"
     ]
    },
    {
     "output_type": "stream",
     "name": "stderr",
     "text": [
      "/home/lspss95207/.local/share/virtualenvs/Part1-6JmGpJVu/lib/python3.8/site-packages/IPython/core/magics/pylab.py:159: UserWarning: pylab import has clobbered these variables: ['square', 'copy']\n",
      "`%matplotlib` prevents importing * from pylab and numpy\n",
      "  warn(\"pylab import has clobbered these variables: %s\"  % clobbered +\n"
     ]
    }
   ],
   "metadata": {
    "collapsed": true
   }
  },
  {
   "cell_type": "markdown",
   "source": [
    "Exercise 3: Solve $A x = b$ for $x$ where $A=\\begin{bmatrix} 1 & 2 \\\\ 3 & 4 \\end{bmatrix}, b=\\begin{bmatrix} 8 \\\\ 9 \\end{bmatrix}$ using matrix inversion. You can verify your solution by calculating $Ax$."
   ],
   "metadata": {}
  },
  {
   "cell_type": "code",
   "execution_count": 1323,
   "source": [
    "A=np.array([[1,2],[3,4]])\n",
    "b=np.array([8,9])\n",
    "res = module.solver(A,b)\n",
    "print(res)"
   ],
   "outputs": [
    {
     "output_type": "stream",
     "name": "stdout",
     "text": [
      "[-7.   7.5]\n"
     ]
    }
   ],
   "metadata": {
    "collapsed": true
   }
  },
  {
   "cell_type": "markdown",
   "source": [
    "Another way is to use an linear equation solver, as below:"
   ],
   "metadata": {}
  },
  {
   "cell_type": "code",
   "execution_count": 1324,
   "source": [
    "y = np.linalg.solve(A, b)\n",
    "print(y)"
   ],
   "outputs": [
    {
     "output_type": "stream",
     "name": "stdout",
     "text": [
      "[-7.   7.5]\n"
     ]
    }
   ],
   "metadata": {
    "collapsed": true
   }
  },
  {
   "cell_type": "markdown",
   "source": [
    "Exercise 4 (Curve fitting): We are given a set of points $\\{(x_i,y_i)\\}_{i=1}^N$, and want to find a straight line which fits these points well. \n",
    "\n",
    "If the line is $y=a x + b$, we can write a system of equations\n",
    "\n",
    "$y_1 = a x_1 + b$\n",
    "\n",
    "$y_2 = a x_2 + b$\n",
    "\n",
    "$\\vdots$\n",
    "\n",
    "$y_n = a x_n + b$\n",
    "\n",
    "which we can write using matrices: $\\begin{bmatrix}\n",
    "x_1 & 1\\\\\n",
    "x_2 & 1\\\\\n",
    "\\vdots & \\vdots \\\\\n",
    "x_n & 1\n",
    "\\end{bmatrix} \\begin{bmatrix}a \\\\ b \\end{bmatrix} = \\begin{bmatrix} y_1 \\\\ y_2 \\\\ \\vdots \\\\ y_n\\end{bmatrix}$ (verify that this is correct on your own!)."
   ],
   "metadata": {}
  },
  {
   "cell_type": "code",
   "execution_count": 1325,
   "source": [
    "# I'll give you a set of points\n",
    "x=np.linspace(-5,5,100) # get a list of 100 evenly spaced points in (-5,5)\n",
    "y=2*x+1+np.random.randn(100) # the true line is y=2x+1, but the data points are corrupted by some noise."
   ],
   "outputs": [],
   "metadata": {
    "collapsed": true
   }
  },
  {
   "cell_type": "code",
   "execution_count": 1326,
   "source": [
    "# Now we'll plot these\n",
    "plot(x,y) # plot the data\n",
    "xlim(-5,5) # set the horizontal limits\n",
    "ylim(y.min(),y.max()) # set the vertical limits to the smallest and largest data points"
   ],
   "outputs": [
    {
     "output_type": "execute_result",
     "data": {
      "text/plain": [
       "(-8.874308659594726, 12.722029654535149)"
      ]
     },
     "metadata": {},
     "execution_count": 1326
    },
    {
     "output_type": "display_data",
     "data": {
      "text/plain": [
       "<Figure size 432x288 with 1 Axes>"
      ],
      "image/svg+xml": "<?xml version=\"1.0\" encoding=\"utf-8\" standalone=\"no\"?>\n<!DOCTYPE svg PUBLIC \"-//W3C//DTD SVG 1.1//EN\"\n  \"http://www.w3.org/Graphics/SVG/1.1/DTD/svg11.dtd\">\n<svg height=\"250.081866pt\" version=\"1.1\" viewBox=\"0 0 380.482813 250.081866\" width=\"380.482813pt\" xmlns=\"http://www.w3.org/2000/svg\" xmlns:xlink=\"http://www.w3.org/1999/xlink\">\n <metadata>\n  <rdf:RDF xmlns:cc=\"http://creativecommons.org/ns#\" xmlns:dc=\"http://purl.org/dc/elements/1.1/\" xmlns:rdf=\"http://www.w3.org/1999/02/22-rdf-syntax-ns#\">\n   <cc:Work>\n    <dc:type rdf:resource=\"http://purl.org/dc/dcmitype/StillImage\"/>\n    <dc:date>2021-08-24T20:42:39.202989</dc:date>\n    <dc:format>image/svg+xml</dc:format>\n    <dc:creator>\n     <cc:Agent>\n      <dc:title>Matplotlib v3.4.3, https://matplotlib.org/</dc:title>\n     </cc:Agent>\n    </dc:creator>\n   </cc:Work>\n  </rdf:RDF>\n </metadata>\n <defs>\n  <style type=\"text/css\">*{stroke-linecap:butt;stroke-linejoin:round;}</style>\n </defs>\n <g id=\"figure_1\">\n  <g id=\"patch_1\">\n   <path d=\"M -0 250.081866 \nL 380.482813 250.081866 \nL 380.482813 0 \nL -0 0 \nz\n\" style=\"fill:none;\"/>\n  </g>\n  <g id=\"axes_1\">\n   <g id=\"patch_2\">\n    <path d=\"M 38.482813 226.203741 \nL 373.282813 226.203741 \nL 373.282813 8.763741 \nL 38.482813 8.763741 \nz\n\" style=\"fill:#ffffff;\"/>\n   </g>\n   <g id=\"matplotlib.axis_1\">\n    <g id=\"xtick_1\">\n     <g id=\"line2d_1\">\n      <defs>\n       <path d=\"M 0 0 \nL 0 3.5 \n\" id=\"m4bfe8be5a9\" style=\"stroke:#000000;stroke-width:0.8;\"/>\n      </defs>\n      <g>\n       <use style=\"stroke:#000000;stroke-width:0.8;\" x=\"71.962812\" xlink:href=\"#m4bfe8be5a9\" y=\"226.203741\"/>\n      </g>\n     </g>\n     <g id=\"text_1\">\n      <!-- −4 -->\n      <g transform=\"translate(64.591719 240.802179)scale(0.1 -0.1)\">\n       <defs>\n        <path d=\"M 678 2272 \nL 4684 2272 \nL 4684 1741 \nL 678 1741 \nL 678 2272 \nz\n\" id=\"DejaVuSans-2212\" transform=\"scale(0.015625)\"/>\n        <path d=\"M 2419 4116 \nL 825 1625 \nL 2419 1625 \nL 2419 4116 \nz\nM 2253 4666 \nL 3047 4666 \nL 3047 1625 \nL 3713 1625 \nL 3713 1100 \nL 3047 1100 \nL 3047 0 \nL 2419 0 \nL 2419 1100 \nL 313 1100 \nL 313 1709 \nL 2253 4666 \nz\n\" id=\"DejaVuSans-34\" transform=\"scale(0.015625)\"/>\n       </defs>\n       <use xlink:href=\"#DejaVuSans-2212\"/>\n       <use x=\"83.789062\" xlink:href=\"#DejaVuSans-34\"/>\n      </g>\n     </g>\n    </g>\n    <g id=\"xtick_2\">\n     <g id=\"line2d_2\">\n      <g>\n       <use style=\"stroke:#000000;stroke-width:0.8;\" x=\"138.922812\" xlink:href=\"#m4bfe8be5a9\" y=\"226.203741\"/>\n      </g>\n     </g>\n     <g id=\"text_2\">\n      <!-- −2 -->\n      <g transform=\"translate(131.551719 240.802179)scale(0.1 -0.1)\">\n       <defs>\n        <path d=\"M 1228 531 \nL 3431 531 \nL 3431 0 \nL 469 0 \nL 469 531 \nQ 828 903 1448 1529 \nQ 2069 2156 2228 2338 \nQ 2531 2678 2651 2914 \nQ 2772 3150 2772 3378 \nQ 2772 3750 2511 3984 \nQ 2250 4219 1831 4219 \nQ 1534 4219 1204 4116 \nQ 875 4013 500 3803 \nL 500 4441 \nQ 881 4594 1212 4672 \nQ 1544 4750 1819 4750 \nQ 2544 4750 2975 4387 \nQ 3406 4025 3406 3419 \nQ 3406 3131 3298 2873 \nQ 3191 2616 2906 2266 \nQ 2828 2175 2409 1742 \nQ 1991 1309 1228 531 \nz\n\" id=\"DejaVuSans-32\" transform=\"scale(0.015625)\"/>\n       </defs>\n       <use xlink:href=\"#DejaVuSans-2212\"/>\n       <use x=\"83.789062\" xlink:href=\"#DejaVuSans-32\"/>\n      </g>\n     </g>\n    </g>\n    <g id=\"xtick_3\">\n     <g id=\"line2d_3\">\n      <g>\n       <use style=\"stroke:#000000;stroke-width:0.8;\" x=\"205.882812\" xlink:href=\"#m4bfe8be5a9\" y=\"226.203741\"/>\n      </g>\n     </g>\n     <g id=\"text_3\">\n      <!-- 0 -->\n      <g transform=\"translate(202.701562 240.802179)scale(0.1 -0.1)\">\n       <defs>\n        <path d=\"M 2034 4250 \nQ 1547 4250 1301 3770 \nQ 1056 3291 1056 2328 \nQ 1056 1369 1301 889 \nQ 1547 409 2034 409 \nQ 2525 409 2770 889 \nQ 3016 1369 3016 2328 \nQ 3016 3291 2770 3770 \nQ 2525 4250 2034 4250 \nz\nM 2034 4750 \nQ 2819 4750 3233 4129 \nQ 3647 3509 3647 2328 \nQ 3647 1150 3233 529 \nQ 2819 -91 2034 -91 \nQ 1250 -91 836 529 \nQ 422 1150 422 2328 \nQ 422 3509 836 4129 \nQ 1250 4750 2034 4750 \nz\n\" id=\"DejaVuSans-30\" transform=\"scale(0.015625)\"/>\n       </defs>\n       <use xlink:href=\"#DejaVuSans-30\"/>\n      </g>\n     </g>\n    </g>\n    <g id=\"xtick_4\">\n     <g id=\"line2d_4\">\n      <g>\n       <use style=\"stroke:#000000;stroke-width:0.8;\" x=\"272.842813\" xlink:href=\"#m4bfe8be5a9\" y=\"226.203741\"/>\n      </g>\n     </g>\n     <g id=\"text_4\">\n      <!-- 2 -->\n      <g transform=\"translate(269.661563 240.802179)scale(0.1 -0.1)\">\n       <use xlink:href=\"#DejaVuSans-32\"/>\n      </g>\n     </g>\n    </g>\n    <g id=\"xtick_5\">\n     <g id=\"line2d_5\">\n      <g>\n       <use style=\"stroke:#000000;stroke-width:0.8;\" x=\"339.802813\" xlink:href=\"#m4bfe8be5a9\" y=\"226.203741\"/>\n      </g>\n     </g>\n     <g id=\"text_5\">\n      <!-- 4 -->\n      <g transform=\"translate(336.621563 240.802179)scale(0.1 -0.1)\">\n       <use xlink:href=\"#DejaVuSans-34\"/>\n      </g>\n     </g>\n    </g>\n   </g>\n   <g id=\"matplotlib.axis_2\">\n    <g id=\"ytick_1\">\n     <g id=\"line2d_6\">\n      <defs>\n       <path d=\"M 0 0 \nL -3.5 0 \n\" id=\"m15e49b4f62\" style=\"stroke:#000000;stroke-width:0.8;\"/>\n      </defs>\n      <g>\n       <use style=\"stroke:#000000;stroke-width:0.8;\" x=\"38.482813\" xlink:href=\"#m15e49b4f62\" y=\"212.366688\"/>\n      </g>\n     </g>\n     <g id=\"text_6\">\n      <!-- −7.5 -->\n      <g transform=\"translate(7.2 216.165907)scale(0.1 -0.1)\">\n       <defs>\n        <path d=\"M 525 4666 \nL 3525 4666 \nL 3525 4397 \nL 1831 0 \nL 1172 0 \nL 2766 4134 \nL 525 4134 \nL 525 4666 \nz\n\" id=\"DejaVuSans-37\" transform=\"scale(0.015625)\"/>\n        <path d=\"M 684 794 \nL 1344 794 \nL 1344 0 \nL 684 0 \nL 684 794 \nz\n\" id=\"DejaVuSans-2e\" transform=\"scale(0.015625)\"/>\n        <path d=\"M 691 4666 \nL 3169 4666 \nL 3169 4134 \nL 1269 4134 \nL 1269 2991 \nQ 1406 3038 1543 3061 \nQ 1681 3084 1819 3084 \nQ 2600 3084 3056 2656 \nQ 3513 2228 3513 1497 \nQ 3513 744 3044 326 \nQ 2575 -91 1722 -91 \nQ 1428 -91 1123 -41 \nQ 819 9 494 109 \nL 494 744 \nQ 775 591 1075 516 \nQ 1375 441 1709 441 \nQ 2250 441 2565 725 \nQ 2881 1009 2881 1497 \nQ 2881 1984 2565 2268 \nQ 2250 2553 1709 2553 \nQ 1456 2553 1204 2497 \nQ 953 2441 691 2322 \nL 691 4666 \nz\n\" id=\"DejaVuSans-35\" transform=\"scale(0.015625)\"/>\n       </defs>\n       <use xlink:href=\"#DejaVuSans-2212\"/>\n       <use x=\"83.789062\" xlink:href=\"#DejaVuSans-37\"/>\n       <use x=\"147.412109\" xlink:href=\"#DejaVuSans-2e\"/>\n       <use x=\"179.199219\" xlink:href=\"#DejaVuSans-35\"/>\n      </g>\n     </g>\n    </g>\n    <g id=\"ytick_2\">\n     <g id=\"line2d_7\">\n      <g>\n       <use style=\"stroke:#000000;stroke-width:0.8;\" x=\"38.482813\" xlink:href=\"#m15e49b4f62\" y=\"187.195755\"/>\n      </g>\n     </g>\n     <g id=\"text_7\">\n      <!-- −5.0 -->\n      <g transform=\"translate(7.2 190.994973)scale(0.1 -0.1)\">\n       <use xlink:href=\"#DejaVuSans-2212\"/>\n       <use x=\"83.789062\" xlink:href=\"#DejaVuSans-35\"/>\n       <use x=\"147.412109\" xlink:href=\"#DejaVuSans-2e\"/>\n       <use x=\"179.199219\" xlink:href=\"#DejaVuSans-30\"/>\n      </g>\n     </g>\n    </g>\n    <g id=\"ytick_3\">\n     <g id=\"line2d_8\">\n      <g>\n       <use style=\"stroke:#000000;stroke-width:0.8;\" x=\"38.482813\" xlink:href=\"#m15e49b4f62\" y=\"162.024821\"/>\n      </g>\n     </g>\n     <g id=\"text_8\">\n      <!-- −2.5 -->\n      <g transform=\"translate(7.2 165.82404)scale(0.1 -0.1)\">\n       <use xlink:href=\"#DejaVuSans-2212\"/>\n       <use x=\"83.789062\" xlink:href=\"#DejaVuSans-32\"/>\n       <use x=\"147.412109\" xlink:href=\"#DejaVuSans-2e\"/>\n       <use x=\"179.199219\" xlink:href=\"#DejaVuSans-35\"/>\n      </g>\n     </g>\n    </g>\n    <g id=\"ytick_4\">\n     <g id=\"line2d_9\">\n      <g>\n       <use style=\"stroke:#000000;stroke-width:0.8;\" x=\"38.482813\" xlink:href=\"#m15e49b4f62\" y=\"136.853887\"/>\n      </g>\n     </g>\n     <g id=\"text_9\">\n      <!-- 0.0 -->\n      <g transform=\"translate(15.579688 140.653106)scale(0.1 -0.1)\">\n       <use xlink:href=\"#DejaVuSans-30\"/>\n       <use x=\"63.623047\" xlink:href=\"#DejaVuSans-2e\"/>\n       <use x=\"95.410156\" xlink:href=\"#DejaVuSans-30\"/>\n      </g>\n     </g>\n    </g>\n    <g id=\"ytick_5\">\n     <g id=\"line2d_10\">\n      <g>\n       <use style=\"stroke:#000000;stroke-width:0.8;\" x=\"38.482813\" xlink:href=\"#m15e49b4f62\" y=\"111.682954\"/>\n      </g>\n     </g>\n     <g id=\"text_10\">\n      <!-- 2.5 -->\n      <g transform=\"translate(15.579688 115.482172)scale(0.1 -0.1)\">\n       <use xlink:href=\"#DejaVuSans-32\"/>\n       <use x=\"63.623047\" xlink:href=\"#DejaVuSans-2e\"/>\n       <use x=\"95.410156\" xlink:href=\"#DejaVuSans-35\"/>\n      </g>\n     </g>\n    </g>\n    <g id=\"ytick_6\">\n     <g id=\"line2d_11\">\n      <g>\n       <use style=\"stroke:#000000;stroke-width:0.8;\" x=\"38.482813\" xlink:href=\"#m15e49b4f62\" y=\"86.51202\"/>\n      </g>\n     </g>\n     <g id=\"text_11\">\n      <!-- 5.0 -->\n      <g transform=\"translate(15.579688 90.311239)scale(0.1 -0.1)\">\n       <use xlink:href=\"#DejaVuSans-35\"/>\n       <use x=\"63.623047\" xlink:href=\"#DejaVuSans-2e\"/>\n       <use x=\"95.410156\" xlink:href=\"#DejaVuSans-30\"/>\n      </g>\n     </g>\n    </g>\n    <g id=\"ytick_7\">\n     <g id=\"line2d_12\">\n      <g>\n       <use style=\"stroke:#000000;stroke-width:0.8;\" x=\"38.482813\" xlink:href=\"#m15e49b4f62\" y=\"61.341086\"/>\n      </g>\n     </g>\n     <g id=\"text_12\">\n      <!-- 7.5 -->\n      <g transform=\"translate(15.579688 65.140305)scale(0.1 -0.1)\">\n       <use xlink:href=\"#DejaVuSans-37\"/>\n       <use x=\"63.623047\" xlink:href=\"#DejaVuSans-2e\"/>\n       <use x=\"95.410156\" xlink:href=\"#DejaVuSans-35\"/>\n      </g>\n     </g>\n    </g>\n    <g id=\"ytick_8\">\n     <g id=\"line2d_13\">\n      <g>\n       <use style=\"stroke:#000000;stroke-width:0.8;\" x=\"38.482813\" xlink:href=\"#m15e49b4f62\" y=\"36.170152\"/>\n      </g>\n     </g>\n     <g id=\"text_13\">\n      <!-- 10.0 -->\n      <g transform=\"translate(9.217188 39.969371)scale(0.1 -0.1)\">\n       <defs>\n        <path d=\"M 794 531 \nL 1825 531 \nL 1825 4091 \nL 703 3866 \nL 703 4441 \nL 1819 4666 \nL 2450 4666 \nL 2450 531 \nL 3481 531 \nL 3481 0 \nL 794 0 \nL 794 531 \nz\n\" id=\"DejaVuSans-31\" transform=\"scale(0.015625)\"/>\n       </defs>\n       <use xlink:href=\"#DejaVuSans-31\"/>\n       <use x=\"63.623047\" xlink:href=\"#DejaVuSans-30\"/>\n       <use x=\"127.246094\" xlink:href=\"#DejaVuSans-2e\"/>\n       <use x=\"159.033203\" xlink:href=\"#DejaVuSans-30\"/>\n      </g>\n     </g>\n    </g>\n    <g id=\"ytick_9\">\n     <g id=\"line2d_14\">\n      <g>\n       <use style=\"stroke:#000000;stroke-width:0.8;\" x=\"38.482813\" xlink:href=\"#m15e49b4f62\" y=\"10.999219\"/>\n      </g>\n     </g>\n     <g id=\"text_14\">\n      <!-- 12.5 -->\n      <g transform=\"translate(9.217188 14.798437)scale(0.1 -0.1)\">\n       <use xlink:href=\"#DejaVuSans-31\"/>\n       <use x=\"63.623047\" xlink:href=\"#DejaVuSans-32\"/>\n       <use x=\"127.246094\" xlink:href=\"#DejaVuSans-2e\"/>\n       <use x=\"159.033203\" xlink:href=\"#DejaVuSans-35\"/>\n      </g>\n     </g>\n    </g>\n   </g>\n   <g id=\"line2d_15\">\n    <path clip-path=\"url(#p0df35aa8c8)\" d=\"M 38.482812 210.445317 \nL 41.864631 224.173621 \nL 45.246449 221.368564 \nL 48.628267 221.929162 \nL 52.010085 226.203741 \nL 55.391903 218.101598 \nL 58.773722 214.134523 \nL 62.15554 207.620615 \nL 65.537358 207.384993 \nL 68.919176 199.113489 \nL 72.300994 212.418459 \nL 75.682812 216.674538 \nL 79.064631 198.030954 \nL 82.446449 197.854433 \nL 85.828267 219.110011 \nL 89.210085 197.016236 \nL 92.591903 192.758967 \nL 95.973722 193.383789 \nL 99.35554 193.146565 \nL 102.737358 176.143959 \nL 106.119176 172.798937 \nL 109.500994 193.279523 \nL 112.882812 184.116702 \nL 116.264631 175.565153 \nL 119.646449 175.781547 \nL 123.028267 164.516892 \nL 126.410085 165.721668 \nL 129.791903 167.912517 \nL 133.173722 173.881694 \nL 136.55554 163.540183 \nL 139.937358 150.779521 \nL 143.319176 171.45881 \nL 146.700994 157.601303 \nL 150.082812 146.616883 \nL 153.464631 164.987074 \nL 156.846449 169.698667 \nL 160.228267 144.595835 \nL 163.610085 164.946522 \nL 166.991903 160.507586 \nL 170.373722 157.848652 \nL 173.75554 137.881747 \nL 177.137358 124.352289 \nL 180.519176 158.656614 \nL 183.900994 129.21722 \nL 187.282813 152.364466 \nL 190.664631 141.695334 \nL 194.046449 129.150959 \nL 197.428267 144.239939 \nL 200.810085 119.726893 \nL 204.191903 112.302116 \nL 207.573722 137.54879 \nL 210.95554 120.798667 \nL 214.337358 115.782277 \nL 217.719176 130.832901 \nL 221.100994 119.209578 \nL 224.482812 109.379255 \nL 227.864631 101.883481 \nL 231.246449 115.592556 \nL 234.628267 118.014678 \nL 238.010085 123.985919 \nL 241.391903 103.023127 \nL 244.773722 89.723169 \nL 248.15554 90.864388 \nL 251.537358 97.925315 \nL 254.919176 99.870055 \nL 258.300994 96.494954 \nL 261.682813 73.073834 \nL 265.064631 97.298375 \nL 268.446449 93.433466 \nL 271.828267 88.148743 \nL 275.210085 100.277284 \nL 278.591903 78.230181 \nL 281.973722 91.419758 \nL 285.35554 83.246802 \nL 288.737358 76.098803 \nL 292.119176 69.223602 \nL 295.500994 87.507888 \nL 298.882812 61.425875 \nL 302.264631 73.59364 \nL 305.646449 82.71796 \nL 309.028267 63.679508 \nL 312.410085 36.427437 \nL 315.791903 71.800926 \nL 319.173722 57.968356 \nL 322.55554 62.338339 \nL 325.937358 30.627996 \nL 329.319176 51.913889 \nL 332.700994 44.085581 \nL 336.082813 41.786923 \nL 339.464631 47.512299 \nL 342.846449 56.376795 \nL 346.228267 47.499963 \nL 349.610085 26.453458 \nL 352.991903 36.777478 \nL 356.373722 45.046703 \nL 359.75554 31.661487 \nL 363.137358 49.11491 \nL 366.519176 38.955703 \nL 369.900994 35.812183 \nL 373.282813 8.763741 \n\" style=\"fill:none;stroke:#1f77b4;stroke-linecap:square;stroke-width:1.5;\"/>\n   </g>\n   <g id=\"patch_3\">\n    <path d=\"M 38.482813 226.203741 \nL 38.482813 8.763741 \n\" style=\"fill:none;stroke:#000000;stroke-linecap:square;stroke-linejoin:miter;stroke-width:0.8;\"/>\n   </g>\n   <g id=\"patch_4\">\n    <path d=\"M 373.282813 226.203741 \nL 373.282813 8.763741 \n\" style=\"fill:none;stroke:#000000;stroke-linecap:square;stroke-linejoin:miter;stroke-width:0.8;\"/>\n   </g>\n   <g id=\"patch_5\">\n    <path d=\"M 38.482812 226.203741 \nL 373.282813 226.203741 \n\" style=\"fill:none;stroke:#000000;stroke-linecap:square;stroke-linejoin:miter;stroke-width:0.8;\"/>\n   </g>\n   <g id=\"patch_6\">\n    <path d=\"M 38.482812 8.763741 \nL 373.282813 8.763741 \n\" style=\"fill:none;stroke:#000000;stroke-linecap:square;stroke-linejoin:miter;stroke-width:0.8;\"/>\n   </g>\n  </g>\n </g>\n <defs>\n  <clipPath id=\"p0df35aa8c8\">\n   <rect height=\"217.44\" width=\"334.8\" x=\"38.482813\" y=\"8.763741\"/>\n  </clipPath>\n </defs>\n</svg>\n",
      "image/png": "[encoded data removed]"
     },
     "metadata": {
      "needs_background": "light"
     }
    }
   ],
   "metadata": {
    "collapsed": true
   }
  },
  {
   "cell_type": "markdown",
   "source": [
    "Now, if the matrix $\\begin{bmatrix}\n",
    "x_1 & 1\\\\\n",
    "x_2 & 1\\\\\n",
    "\\vdots & \\vdots \\\\\n",
    "x_n & 1\n",
    "\\end{bmatrix}$ was invertible, we'd just write $\\begin{bmatrix} a \\\\ b \\end{bmatrix} = \\begin{bmatrix}\n",
    "x_1 & 1\\\\\n",
    "x_2 & 1\\\\\n",
    "\\vdots & \\vdots \\\\\n",
    "x_n & 1\n",
    "\\end{bmatrix}^{-1}  \\begin{bmatrix} y_1 \\\\ y_2 \\\\ \\vdots \\\\ y_n\\end{bmatrix}$. \n",
    "\n",
    "But this doesn't make sense, since the matrix $\\begin{bmatrix}\n",
    "x_1 & 1\\\\\n",
    "x_2 & 1\\\\\n",
    "\\vdots & \\vdots \\\\\n",
    "x_n & 1\n",
    "\\end{bmatrix}$ won't even be square normally. \n",
    "\n",
    "As we will see in the linear regression section, a good solution is to use \n",
    "\n",
    "$\\begin{bmatrix} a \\\\ b \\end{bmatrix} \\approx \\begin{bmatrix}\n",
    "x_1 & 1\\\\\n",
    "x_2 & 1\\\\\n",
    "\\vdots & \\vdots \\\\\n",
    "x_n & 1\n",
    "\\end{bmatrix}^{\\dagger}  \\begin{bmatrix} y_1 \\\\ y_2 \\\\ \\vdots \\\\ y_n\\end{bmatrix}$ where $\\dagger$ denotes the <a href=\"https://en.wikipedia.org/wiki/Moore%E2%80%93Penrose_pseudoinverse\">pseudoinverse</a>, which acts like an inverse (in some sense) when you cannot invert a matrix. The pseudoinverse can be calculated using `numpy.linalg.pinv` with the same syntax as matrix inversion. `numpy.column_stack` may also be useful.\n",
    "\n",
    "Use the pseudoinverse to calculate $\\begin{bmatrix} a \\\\ b \\end{bmatrix}$. Put your coefficients in a numpy array called coeff."
   ],
   "metadata": {}
  },
  {
   "cell_type": "code",
   "execution_count": 1327,
   "source": [
    "coeff = module.fitting(x,y)\n",
    "print(coeff)"
   ],
   "outputs": [
    {
     "output_type": "stream",
     "name": "stdout",
     "text": [
      "[1.97565475 1.04426296]\n"
     ]
    }
   ],
   "metadata": {
    "collapsed": true
   }
  },
  {
   "cell_type": "markdown",
   "source": [
    "Now, lets see how the line fits up. \n"
   ],
   "metadata": {}
  },
  {
   "cell_type": "code",
   "execution_count": 1328,
   "source": [
    "scatter(x,y) # scatter plot the data\n",
    "xlim(-5,5) # set the horizontal limits\n",
    "ylim(y.min(),y.max()) # set the vertical limits to the smallest and largest data points\n",
    "plot(x,coeff[0]*x+coeff[1], '-r') # plot the best fit line"
   ],
   "outputs": [
    {
     "output_type": "execute_result",
     "data": {
      "text/plain": [
       "[<matplotlib.lines.Line2D at 0x7f9fd7006a30>]"
      ]
     },
     "metadata": {},
     "execution_count": 1328
    },
    {
     "output_type": "display_data",
     "data": {
      "text/plain": [
       "<Figure size 432x288 with 1 Axes>"
      ],
      "image/svg+xml": "<?xml version=\"1.0\" encoding=\"utf-8\" standalone=\"no\"?>\n<!DOCTYPE svg PUBLIC \"-//W3C//DTD SVG 1.1//EN\"\n  \"http://www.w3.org/Graphics/SVG/1.1/DTD/svg11.dtd\">\n<svg height=\"250.081866pt\" version=\"1.1\" viewBox=\"0 0 380.482813 250.081866\" width=\"380.482813pt\" xmlns=\"http://www.w3.org/2000/svg\" xmlns:xlink=\"http://www.w3.org/1999/xlink\">\n <metadata>\n  <rdf:RDF xmlns:cc=\"http://creativecommons.org/ns#\" xmlns:dc=\"http://purl.org/dc/elements/1.1/\" xmlns:rdf=\"http://www.w3.org/1999/02/22-rdf-syntax-ns#\">\n   <cc:Work>\n    <dc:type rdf:resource=\"http://purl.org/dc/dcmitype/StillImage\"/>\n    <dc:date>2021-08-24T20:42:39.522203</dc:date>\n    <dc:format>image/svg+xml</dc:format>\n    <dc:creator>\n     <cc:Agent>\n      <dc:title>Matplotlib v3.4.3, https://matplotlib.org/</dc:title>\n     </cc:Agent>\n    </dc:creator>\n   </cc:Work>\n  </rdf:RDF>\n </metadata>\n <defs>\n  <style type=\"text/css\">*{stroke-linecap:butt;stroke-linejoin:round;}</style>\n </defs>\n <g id=\"figure_1\">\n  <g id=\"patch_1\">\n   <path d=\"M -0 250.081866 \nL 380.482813 250.081866 \nL 380.482813 0 \nL -0 0 \nz\n\" style=\"fill:none;\"/>\n  </g>\n  <g id=\"axes_1\">\n   <g id=\"patch_2\">\n    <path d=\"M 38.482813 226.203741 \nL 373.282813 226.203741 \nL 373.282813 8.763741 \nL 38.482813 8.763741 \nz\n\" style=\"fill:#ffffff;\"/>\n   </g>\n   <g id=\"PathCollection_1\">\n    <defs>\n     <path d=\"M 0 3 \nC 0.795609 3 1.55874 2.683901 2.12132 2.12132 \nC 2.683901 1.55874 3 0.795609 3 0 \nC 3 -0.795609 2.683901 -1.55874 2.12132 -2.12132 \nC 1.55874 -2.683901 0.795609 -3 0 -3 \nC -0.795609 -3 -1.55874 -2.683901 -2.12132 -2.12132 \nC -2.683901 -1.55874 -3 -0.795609 -3 0 \nC -3 0.795609 -2.683901 1.55874 -2.12132 2.12132 \nC -1.55874 2.683901 -0.795609 3 0 3 \nz\n\" id=\"mecfdea22b7\" style=\"stroke:#1f77b4;\"/>\n    </defs>\n    <g clip-path=\"url(#p5873f79ba6)\">\n     <use style=\"fill:#1f77b4;stroke:#1f77b4;\" x=\"38.482812\" xlink:href=\"#mecfdea22b7\" y=\"210.445317\"/>\n     <use style=\"fill:#1f77b4;stroke:#1f77b4;\" x=\"41.864631\" xlink:href=\"#mecfdea22b7\" y=\"224.173621\"/>\n     <use style=\"fill:#1f77b4;stroke:#1f77b4;\" x=\"45.246449\" xlink:href=\"#mecfdea22b7\" y=\"221.368564\"/>\n     <use style=\"fill:#1f77b4;stroke:#1f77b4;\" x=\"48.628267\" xlink:href=\"#mecfdea22b7\" y=\"221.929162\"/>\n     <use style=\"fill:#1f77b4;stroke:#1f77b4;\" x=\"52.010085\" xlink:href=\"#mecfdea22b7\" y=\"226.203741\"/>\n     <use style=\"fill:#1f77b4;stroke:#1f77b4;\" x=\"55.391903\" xlink:href=\"#mecfdea22b7\" y=\"218.101598\"/>\n     <use style=\"fill:#1f77b4;stroke:#1f77b4;\" x=\"58.773722\" xlink:href=\"#mecfdea22b7\" y=\"214.134523\"/>\n     <use style=\"fill:#1f77b4;stroke:#1f77b4;\" x=\"62.15554\" xlink:href=\"#mecfdea22b7\" y=\"207.620615\"/>\n     <use style=\"fill:#1f77b4;stroke:#1f77b4;\" x=\"65.537358\" xlink:href=\"#mecfdea22b7\" y=\"207.384993\"/>\n     <use style=\"fill:#1f77b4;stroke:#1f77b4;\" x=\"68.919176\" xlink:href=\"#mecfdea22b7\" y=\"199.113489\"/>\n     <use style=\"fill:#1f77b4;stroke:#1f77b4;\" x=\"72.300994\" xlink:href=\"#mecfdea22b7\" y=\"212.418459\"/>\n     <use style=\"fill:#1f77b4;stroke:#1f77b4;\" x=\"75.682812\" xlink:href=\"#mecfdea22b7\" y=\"216.674538\"/>\n     <use style=\"fill:#1f77b4;stroke:#1f77b4;\" x=\"79.064631\" xlink:href=\"#mecfdea22b7\" y=\"198.030954\"/>\n     <use style=\"fill:#1f77b4;stroke:#1f77b4;\" x=\"82.446449\" xlink:href=\"#mecfdea22b7\" y=\"197.854433\"/>\n     <use style=\"fill:#1f77b4;stroke:#1f77b4;\" x=\"85.828267\" xlink:href=\"#mecfdea22b7\" y=\"219.110011\"/>\n     <use style=\"fill:#1f77b4;stroke:#1f77b4;\" x=\"89.210085\" xlink:href=\"#mecfdea22b7\" y=\"197.016236\"/>\n     <use style=\"fill:#1f77b4;stroke:#1f77b4;\" x=\"92.591903\" xlink:href=\"#mecfdea22b7\" y=\"192.758967\"/>\n     <use style=\"fill:#1f77b4;stroke:#1f77b4;\" x=\"95.973722\" xlink:href=\"#mecfdea22b7\" y=\"193.383789\"/>\n     <use style=\"fill:#1f77b4;stroke:#1f77b4;\" x=\"99.35554\" xlink:href=\"#mecfdea22b7\" y=\"193.146565\"/>\n     <use style=\"fill:#1f77b4;stroke:#1f77b4;\" x=\"102.737358\" xlink:href=\"#mecfdea22b7\" y=\"176.143959\"/>\n     <use style=\"fill:#1f77b4;stroke:#1f77b4;\" x=\"106.119176\" xlink:href=\"#mecfdea22b7\" y=\"172.798937\"/>\n     <use style=\"fill:#1f77b4;stroke:#1f77b4;\" x=\"109.500994\" xlink:href=\"#mecfdea22b7\" y=\"193.279523\"/>\n     <use style=\"fill:#1f77b4;stroke:#1f77b4;\" x=\"112.882812\" xlink:href=\"#mecfdea22b7\" y=\"184.116702\"/>\n     <use style=\"fill:#1f77b4;stroke:#1f77b4;\" x=\"116.264631\" xlink:href=\"#mecfdea22b7\" y=\"175.565153\"/>\n     <use style=\"fill:#1f77b4;stroke:#1f77b4;\" x=\"119.646449\" xlink:href=\"#mecfdea22b7\" y=\"175.781547\"/>\n     <use style=\"fill:#1f77b4;stroke:#1f77b4;\" x=\"123.028267\" xlink:href=\"#mecfdea22b7\" y=\"164.516892\"/>\n     <use style=\"fill:#1f77b4;stroke:#1f77b4;\" x=\"126.410085\" xlink:href=\"#mecfdea22b7\" y=\"165.721668\"/>\n     <use style=\"fill:#1f77b4;stroke:#1f77b4;\" x=\"129.791903\" xlink:href=\"#mecfdea22b7\" y=\"167.912517\"/>\n     <use style=\"fill:#1f77b4;stroke:#1f77b4;\" x=\"133.173722\" xlink:href=\"#mecfdea22b7\" y=\"173.881694\"/>\n     <use style=\"fill:#1f77b4;stroke:#1f77b4;\" x=\"136.55554\" xlink:href=\"#mecfdea22b7\" y=\"163.540183\"/>\n     <use style=\"fill:#1f77b4;stroke:#1f77b4;\" x=\"139.937358\" xlink:href=\"#mecfdea22b7\" y=\"150.779521\"/>\n     <use style=\"fill:#1f77b4;stroke:#1f77b4;\" x=\"143.319176\" xlink:href=\"#mecfdea22b7\" y=\"171.45881\"/>\n     <use style=\"fill:#1f77b4;stroke:#1f77b4;\" x=\"146.700994\" xlink:href=\"#mecfdea22b7\" y=\"157.601303\"/>\n     <use style=\"fill:#1f77b4;stroke:#1f77b4;\" x=\"150.082812\" xlink:href=\"#mecfdea22b7\" y=\"146.616883\"/>\n     <use style=\"fill:#1f77b4;stroke:#1f77b4;\" x=\"153.464631\" xlink:href=\"#mecfdea22b7\" y=\"164.987074\"/>\n     <use style=\"fill:#1f77b4;stroke:#1f77b4;\" x=\"156.846449\" xlink:href=\"#mecfdea22b7\" y=\"169.698667\"/>\n     <use style=\"fill:#1f77b4;stroke:#1f77b4;\" x=\"160.228267\" xlink:href=\"#mecfdea22b7\" y=\"144.595835\"/>\n     <use style=\"fill:#1f77b4;stroke:#1f77b4;\" x=\"163.610085\" xlink:href=\"#mecfdea22b7\" y=\"164.946522\"/>\n     <use style=\"fill:#1f77b4;stroke:#1f77b4;\" x=\"166.991903\" xlink:href=\"#mecfdea22b7\" y=\"160.507586\"/>\n     <use style=\"fill:#1f77b4;stroke:#1f77b4;\" x=\"170.373722\" xlink:href=\"#mecfdea22b7\" y=\"157.848652\"/>\n     <use style=\"fill:#1f77b4;stroke:#1f77b4;\" x=\"173.75554\" xlink:href=\"#mecfdea22b7\" y=\"137.881747\"/>\n     <use style=\"fill:#1f77b4;stroke:#1f77b4;\" x=\"177.137358\" xlink:href=\"#mecfdea22b7\" y=\"124.352289\"/>\n     <use style=\"fill:#1f77b4;stroke:#1f77b4;\" x=\"180.519176\" xlink:href=\"#mecfdea22b7\" y=\"158.656614\"/>\n     <use style=\"fill:#1f77b4;stroke:#1f77b4;\" x=\"183.900994\" xlink:href=\"#mecfdea22b7\" y=\"129.21722\"/>\n     <use style=\"fill:#1f77b4;stroke:#1f77b4;\" x=\"187.282813\" xlink:href=\"#mecfdea22b7\" y=\"152.364466\"/>\n     <use style=\"fill:#1f77b4;stroke:#1f77b4;\" x=\"190.664631\" xlink:href=\"#mecfdea22b7\" y=\"141.695334\"/>\n     <use style=\"fill:#1f77b4;stroke:#1f77b4;\" x=\"194.046449\" xlink:href=\"#mecfdea22b7\" y=\"129.150959\"/>\n     <use style=\"fill:#1f77b4;stroke:#1f77b4;\" x=\"197.428267\" xlink:href=\"#mecfdea22b7\" y=\"144.239939\"/>\n     <use style=\"fill:#1f77b4;stroke:#1f77b4;\" x=\"200.810085\" xlink:href=\"#mecfdea22b7\" y=\"119.726893\"/>\n     <use style=\"fill:#1f77b4;stroke:#1f77b4;\" x=\"204.191903\" xlink:href=\"#mecfdea22b7\" y=\"112.302116\"/>\n     <use style=\"fill:#1f77b4;stroke:#1f77b4;\" x=\"207.573722\" xlink:href=\"#mecfdea22b7\" y=\"137.54879\"/>\n     <use style=\"fill:#1f77b4;stroke:#1f77b4;\" x=\"210.95554\" xlink:href=\"#mecfdea22b7\" y=\"120.798667\"/>\n     <use style=\"fill:#1f77b4;stroke:#1f77b4;\" x=\"214.337358\" xlink:href=\"#mecfdea22b7\" y=\"115.782277\"/>\n     <use style=\"fill:#1f77b4;stroke:#1f77b4;\" x=\"217.719176\" xlink:href=\"#mecfdea22b7\" y=\"130.832901\"/>\n     <use style=\"fill:#1f77b4;stroke:#1f77b4;\" x=\"221.100994\" xlink:href=\"#mecfdea22b7\" y=\"119.209578\"/>\n     <use style=\"fill:#1f77b4;stroke:#1f77b4;\" x=\"224.482812\" xlink:href=\"#mecfdea22b7\" y=\"109.379255\"/>\n     <use style=\"fill:#1f77b4;stroke:#1f77b4;\" x=\"227.864631\" xlink:href=\"#mecfdea22b7\" y=\"101.883481\"/>\n     <use style=\"fill:#1f77b4;stroke:#1f77b4;\" x=\"231.246449\" xlink:href=\"#mecfdea22b7\" y=\"115.592556\"/>\n     <use style=\"fill:#1f77b4;stroke:#1f77b4;\" x=\"234.628267\" xlink:href=\"#mecfdea22b7\" y=\"118.014678\"/>\n     <use style=\"fill:#1f77b4;stroke:#1f77b4;\" x=\"238.010085\" xlink:href=\"#mecfdea22b7\" y=\"123.985919\"/>\n     <use style=\"fill:#1f77b4;stroke:#1f77b4;\" x=\"241.391903\" xlink:href=\"#mecfdea22b7\" y=\"103.023127\"/>\n     <use style=\"fill:#1f77b4;stroke:#1f77b4;\" x=\"244.773722\" xlink:href=\"#mecfdea22b7\" y=\"89.723169\"/>\n     <use style=\"fill:#1f77b4;stroke:#1f77b4;\" x=\"248.15554\" xlink:href=\"#mecfdea22b7\" y=\"90.864388\"/>\n     <use style=\"fill:#1f77b4;stroke:#1f77b4;\" x=\"251.537358\" xlink:href=\"#mecfdea22b7\" y=\"97.925315\"/>\n     <use style=\"fill:#1f77b4;stroke:#1f77b4;\" x=\"254.919176\" xlink:href=\"#mecfdea22b7\" y=\"99.870055\"/>\n     <use style=\"fill:#1f77b4;stroke:#1f77b4;\" x=\"258.300994\" xlink:href=\"#mecfdea22b7\" y=\"96.494954\"/>\n     <use style=\"fill:#1f77b4;stroke:#1f77b4;\" x=\"261.682813\" xlink:href=\"#mecfdea22b7\" y=\"73.073834\"/>\n     <use style=\"fill:#1f77b4;stroke:#1f77b4;\" x=\"265.064631\" xlink:href=\"#mecfdea22b7\" y=\"97.298375\"/>\n     <use style=\"fill:#1f77b4;stroke:#1f77b4;\" x=\"268.446449\" xlink:href=\"#mecfdea22b7\" y=\"93.433466\"/>\n     <use style=\"fill:#1f77b4;stroke:#1f77b4;\" x=\"271.828267\" xlink:href=\"#mecfdea22b7\" y=\"88.148743\"/>\n     <use style=\"fill:#1f77b4;stroke:#1f77b4;\" x=\"275.210085\" xlink:href=\"#mecfdea22b7\" y=\"100.277284\"/>\n     <use style=\"fill:#1f77b4;stroke:#1f77b4;\" x=\"278.591903\" xlink:href=\"#mecfdea22b7\" y=\"78.230181\"/>\n     <use style=\"fill:#1f77b4;stroke:#1f77b4;\" x=\"281.973722\" xlink:href=\"#mecfdea22b7\" y=\"91.419758\"/>\n     <use style=\"fill:#1f77b4;stroke:#1f77b4;\" x=\"285.35554\" xlink:href=\"#mecfdea22b7\" y=\"83.246802\"/>\n     <use style=\"fill:#1f77b4;stroke:#1f77b4;\" x=\"288.737358\" xlink:href=\"#mecfdea22b7\" y=\"76.098803\"/>\n     <use style=\"fill:#1f77b4;stroke:#1f77b4;\" x=\"292.119176\" xlink:href=\"#mecfdea22b7\" y=\"69.223602\"/>\n     <use style=\"fill:#1f77b4;stroke:#1f77b4;\" x=\"295.500994\" xlink:href=\"#mecfdea22b7\" y=\"87.507888\"/>\n     <use style=\"fill:#1f77b4;stroke:#1f77b4;\" x=\"298.882812\" xlink:href=\"#mecfdea22b7\" y=\"61.425875\"/>\n     <use style=\"fill:#1f77b4;stroke:#1f77b4;\" x=\"302.264631\" xlink:href=\"#mecfdea22b7\" y=\"73.59364\"/>\n     <use style=\"fill:#1f77b4;stroke:#1f77b4;\" x=\"305.646449\" xlink:href=\"#mecfdea22b7\" y=\"82.71796\"/>\n     <use style=\"fill:#1f77b4;stroke:#1f77b4;\" x=\"309.028267\" xlink:href=\"#mecfdea22b7\" y=\"63.679508\"/>\n     <use style=\"fill:#1f77b4;stroke:#1f77b4;\" x=\"312.410085\" xlink:href=\"#mecfdea22b7\" y=\"36.427437\"/>\n     <use style=\"fill:#1f77b4;stroke:#1f77b4;\" x=\"315.791903\" xlink:href=\"#mecfdea22b7\" y=\"71.800926\"/>\n     <use style=\"fill:#1f77b4;stroke:#1f77b4;\" x=\"319.173722\" xlink:href=\"#mecfdea22b7\" y=\"57.968356\"/>\n     <use style=\"fill:#1f77b4;stroke:#1f77b4;\" x=\"322.55554\" xlink:href=\"#mecfdea22b7\" y=\"62.338339\"/>\n     <use style=\"fill:#1f77b4;stroke:#1f77b4;\" x=\"325.937358\" xlink:href=\"#mecfdea22b7\" y=\"30.627996\"/>\n     <use style=\"fill:#1f77b4;stroke:#1f77b4;\" x=\"329.319176\" xlink:href=\"#mecfdea22b7\" y=\"51.913889\"/>\n     <use style=\"fill:#1f77b4;stroke:#1f77b4;\" x=\"332.700994\" xlink:href=\"#mecfdea22b7\" y=\"44.085581\"/>\n     <use style=\"fill:#1f77b4;stroke:#1f77b4;\" x=\"336.082813\" xlink:href=\"#mecfdea22b7\" y=\"41.786923\"/>\n     <use style=\"fill:#1f77b4;stroke:#1f77b4;\" x=\"339.464631\" xlink:href=\"#mecfdea22b7\" y=\"47.512299\"/>\n     <use style=\"fill:#1f77b4;stroke:#1f77b4;\" x=\"342.846449\" xlink:href=\"#mecfdea22b7\" y=\"56.376795\"/>\n     <use style=\"fill:#1f77b4;stroke:#1f77b4;\" x=\"346.228267\" xlink:href=\"#mecfdea22b7\" y=\"47.499963\"/>\n     <use style=\"fill:#1f77b4;stroke:#1f77b4;\" x=\"349.610085\" xlink:href=\"#mecfdea22b7\" y=\"26.453458\"/>\n     <use style=\"fill:#1f77b4;stroke:#1f77b4;\" x=\"352.991903\" xlink:href=\"#mecfdea22b7\" y=\"36.777478\"/>\n     <use style=\"fill:#1f77b4;stroke:#1f77b4;\" x=\"356.373722\" xlink:href=\"#mecfdea22b7\" y=\"45.046703\"/>\n     <use style=\"fill:#1f77b4;stroke:#1f77b4;\" x=\"359.75554\" xlink:href=\"#mecfdea22b7\" y=\"31.661487\"/>\n     <use style=\"fill:#1f77b4;stroke:#1f77b4;\" x=\"363.137358\" xlink:href=\"#mecfdea22b7\" y=\"49.11491\"/>\n     <use style=\"fill:#1f77b4;stroke:#1f77b4;\" x=\"366.519176\" xlink:href=\"#mecfdea22b7\" y=\"38.955703\"/>\n     <use style=\"fill:#1f77b4;stroke:#1f77b4;\" x=\"369.900994\" xlink:href=\"#mecfdea22b7\" y=\"35.812183\"/>\n     <use style=\"fill:#1f77b4;stroke:#1f77b4;\" x=\"373.282813\" xlink:href=\"#mecfdea22b7\" y=\"8.763741\"/>\n    </g>\n   </g>\n   <g id=\"matplotlib.axis_1\">\n    <g id=\"xtick_1\">\n     <g id=\"line2d_1\">\n      <defs>\n       <path d=\"M 0 0 \nL 0 3.5 \n\" id=\"m069efe465b\" style=\"stroke:#000000;stroke-width:0.8;\"/>\n      </defs>\n      <g>\n       <use style=\"stroke:#000000;stroke-width:0.8;\" x=\"71.962812\" xlink:href=\"#m069efe465b\" y=\"226.203741\"/>\n      </g>\n     </g>\n     <g id=\"text_1\">\n      <!-- −4 -->\n      <g transform=\"translate(64.591719 240.802179)scale(0.1 -0.1)\">\n       <defs>\n        <path d=\"M 678 2272 \nL 4684 2272 \nL 4684 1741 \nL 678 1741 \nL 678 2272 \nz\n\" id=\"DejaVuSans-2212\" transform=\"scale(0.015625)\"/>\n        <path d=\"M 2419 4116 \nL 825 1625 \nL 2419 1625 \nL 2419 4116 \nz\nM 2253 4666 \nL 3047 4666 \nL 3047 1625 \nL 3713 1625 \nL 3713 1100 \nL 3047 1100 \nL 3047 0 \nL 2419 0 \nL 2419 1100 \nL 313 1100 \nL 313 1709 \nL 2253 4666 \nz\n\" id=\"DejaVuSans-34\" transform=\"scale(0.015625)\"/>\n       </defs>\n       <use xlink:href=\"#DejaVuSans-2212\"/>\n       <use x=\"83.789062\" xlink:href=\"#DejaVuSans-34\"/>\n      </g>\n     </g>\n    </g>\n    <g id=\"xtick_2\">\n     <g id=\"line2d_2\">\n      <g>\n       <use style=\"stroke:#000000;stroke-width:0.8;\" x=\"138.922812\" xlink:href=\"#m069efe465b\" y=\"226.203741\"/>\n      </g>\n     </g>\n     <g id=\"text_2\">\n      <!-- −2 -->\n      <g transform=\"translate(131.551719 240.802179)scale(0.1 -0.1)\">\n       <defs>\n        <path d=\"M 1228 531 \nL 3431 531 \nL 3431 0 \nL 469 0 \nL 469 531 \nQ 828 903 1448 1529 \nQ 2069 2156 2228 2338 \nQ 2531 2678 2651 2914 \nQ 2772 3150 2772 3378 \nQ 2772 3750 2511 3984 \nQ 2250 4219 1831 4219 \nQ 1534 4219 1204 4116 \nQ 875 4013 500 3803 \nL 500 4441 \nQ 881 4594 1212 4672 \nQ 1544 4750 1819 4750 \nQ 2544 4750 2975 4387 \nQ 3406 4025 3406 3419 \nQ 3406 3131 3298 2873 \nQ 3191 2616 2906 2266 \nQ 2828 2175 2409 1742 \nQ 1991 1309 1228 531 \nz\n\" id=\"DejaVuSans-32\" transform=\"scale(0.015625)\"/>\n       </defs>\n       <use xlink:href=\"#DejaVuSans-2212\"/>\n       <use x=\"83.789062\" xlink:href=\"#DejaVuSans-32\"/>\n      </g>\n     </g>\n    </g>\n    <g id=\"xtick_3\">\n     <g id=\"line2d_3\">\n      <g>\n       <use style=\"stroke:#000000;stroke-width:0.8;\" x=\"205.882812\" xlink:href=\"#m069efe465b\" y=\"226.203741\"/>\n      </g>\n     </g>\n     <g id=\"text_3\">\n      <!-- 0 -->\n      <g transform=\"translate(202.701562 240.802179)scale(0.1 -0.1)\">\n       <defs>\n        <path d=\"M 2034 4250 \nQ 1547 4250 1301 3770 \nQ 1056 3291 1056 2328 \nQ 1056 1369 1301 889 \nQ 1547 409 2034 409 \nQ 2525 409 2770 889 \nQ 3016 1369 3016 2328 \nQ 3016 3291 2770 3770 \nQ 2525 4250 2034 4250 \nz\nM 2034 4750 \nQ 2819 4750 3233 4129 \nQ 3647 3509 3647 2328 \nQ 3647 1150 3233 529 \nQ 2819 -91 2034 -91 \nQ 1250 -91 836 529 \nQ 422 1150 422 2328 \nQ 422 3509 836 4129 \nQ 1250 4750 2034 4750 \nz\n\" id=\"DejaVuSans-30\" transform=\"scale(0.015625)\"/>\n       </defs>\n       <use xlink:href=\"#DejaVuSans-30\"/>\n      </g>\n     </g>\n    </g>\n    <g id=\"xtick_4\">\n     <g id=\"line2d_4\">\n      <g>\n       <use style=\"stroke:#000000;stroke-width:0.8;\" x=\"272.842813\" xlink:href=\"#m069efe465b\" y=\"226.203741\"/>\n      </g>\n     </g>\n     <g id=\"text_4\">\n      <!-- 2 -->\n      <g transform=\"translate(269.661563 240.802179)scale(0.1 -0.1)\">\n       <use xlink:href=\"#DejaVuSans-32\"/>\n      </g>\n     </g>\n    </g>\n    <g id=\"xtick_5\">\n     <g id=\"line2d_5\">\n      <g>\n       <use style=\"stroke:#000000;stroke-width:0.8;\" x=\"339.802813\" xlink:href=\"#m069efe465b\" y=\"226.203741\"/>\n      </g>\n     </g>\n     <g id=\"text_5\">\n      <!-- 4 -->\n      <g transform=\"translate(336.621563 240.802179)scale(0.1 -0.1)\">\n       <use xlink:href=\"#DejaVuSans-34\"/>\n      </g>\n     </g>\n    </g>\n   </g>\n   <g id=\"matplotlib.axis_2\">\n    <g id=\"ytick_1\">\n     <g id=\"line2d_6\">\n      <defs>\n       <path d=\"M 0 0 \nL -3.5 0 \n\" id=\"me558196326\" style=\"stroke:#000000;stroke-width:0.8;\"/>\n      </defs>\n      <g>\n       <use style=\"stroke:#000000;stroke-width:0.8;\" x=\"38.482813\" xlink:href=\"#me558196326\" y=\"212.366688\"/>\n      </g>\n     </g>\n     <g id=\"text_6\">\n      <!-- −7.5 -->\n      <g transform=\"translate(7.2 216.165907)scale(0.1 -0.1)\">\n       <defs>\n        <path d=\"M 525 4666 \nL 3525 4666 \nL 3525 4397 \nL 1831 0 \nL 1172 0 \nL 2766 4134 \nL 525 4134 \nL 525 4666 \nz\n\" id=\"DejaVuSans-37\" transform=\"scale(0.015625)\"/>\n        <path d=\"M 684 794 \nL 1344 794 \nL 1344 0 \nL 684 0 \nL 684 794 \nz\n\" id=\"DejaVuSans-2e\" transform=\"scale(0.015625)\"/>\n        <path d=\"M 691 4666 \nL 3169 4666 \nL 3169 4134 \nL 1269 4134 \nL 1269 2991 \nQ 1406 3038 1543 3061 \nQ 1681 3084 1819 3084 \nQ 2600 3084 3056 2656 \nQ 3513 2228 3513 1497 \nQ 3513 744 3044 326 \nQ 2575 -91 1722 -91 \nQ 1428 -91 1123 -41 \nQ 819 9 494 109 \nL 494 744 \nQ 775 591 1075 516 \nQ 1375 441 1709 441 \nQ 2250 441 2565 725 \nQ 2881 1009 2881 1497 \nQ 2881 1984 2565 2268 \nQ 2250 2553 1709 2553 \nQ 1456 2553 1204 2497 \nQ 953 2441 691 2322 \nL 691 4666 \nz\n\" id=\"DejaVuSans-35\" transform=\"scale(0.015625)\"/>\n       </defs>\n       <use xlink:href=\"#DejaVuSans-2212\"/>\n       <use x=\"83.789062\" xlink:href=\"#DejaVuSans-37\"/>\n       <use x=\"147.412109\" xlink:href=\"#DejaVuSans-2e\"/>\n       <use x=\"179.199219\" xlink:href=\"#DejaVuSans-35\"/>\n      </g>\n     </g>\n    </g>\n    <g id=\"ytick_2\">\n     <g id=\"line2d_7\">\n      <g>\n       <use style=\"stroke:#000000;stroke-width:0.8;\" x=\"38.482813\" xlink:href=\"#me558196326\" y=\"187.195755\"/>\n      </g>\n     </g>\n     <g id=\"text_7\">\n      <!-- −5.0 -->\n      <g transform=\"translate(7.2 190.994973)scale(0.1 -0.1)\">\n       <use xlink:href=\"#DejaVuSans-2212\"/>\n       <use x=\"83.789062\" xlink:href=\"#DejaVuSans-35\"/>\n       <use x=\"147.412109\" xlink:href=\"#DejaVuSans-2e\"/>\n       <use x=\"179.199219\" xlink:href=\"#DejaVuSans-30\"/>\n      </g>\n     </g>\n    </g>\n    <g id=\"ytick_3\">\n     <g id=\"line2d_8\">\n      <g>\n       <use style=\"stroke:#000000;stroke-width:0.8;\" x=\"38.482813\" xlink:href=\"#me558196326\" y=\"162.024821\"/>\n      </g>\n     </g>\n     <g id=\"text_8\">\n      <!-- −2.5 -->\n      <g transform=\"translate(7.2 165.82404)scale(0.1 -0.1)\">\n       <use xlink:href=\"#DejaVuSans-2212\"/>\n       <use x=\"83.789062\" xlink:href=\"#DejaVuSans-32\"/>\n       <use x=\"147.412109\" xlink:href=\"#DejaVuSans-2e\"/>\n       <use x=\"179.199219\" xlink:href=\"#DejaVuSans-35\"/>\n      </g>\n     </g>\n    </g>\n    <g id=\"ytick_4\">\n     <g id=\"line2d_9\">\n      <g>\n       <use style=\"stroke:#000000;stroke-width:0.8;\" x=\"38.482813\" xlink:href=\"#me558196326\" y=\"136.853887\"/>\n      </g>\n     </g>\n     <g id=\"text_9\">\n      <!-- 0.0 -->\n      <g transform=\"translate(15.579688 140.653106)scale(0.1 -0.1)\">\n       <use xlink:href=\"#DejaVuSans-30\"/>\n       <use x=\"63.623047\" xlink:href=\"#DejaVuSans-2e\"/>\n       <use x=\"95.410156\" xlink:href=\"#DejaVuSans-30\"/>\n      </g>\n     </g>\n    </g>\n    <g id=\"ytick_5\">\n     <g id=\"line2d_10\">\n      <g>\n       <use style=\"stroke:#000000;stroke-width:0.8;\" x=\"38.482813\" xlink:href=\"#me558196326\" y=\"111.682954\"/>\n      </g>\n     </g>\n     <g id=\"text_10\">\n      <!-- 2.5 -->\n      <g transform=\"translate(15.579688 115.482172)scale(0.1 -0.1)\">\n       <use xlink:href=\"#DejaVuSans-32\"/>\n       <use x=\"63.623047\" xlink:href=\"#DejaVuSans-2e\"/>\n       <use x=\"95.410156\" xlink:href=\"#DejaVuSans-35\"/>\n      </g>\n     </g>\n    </g>\n    <g id=\"ytick_6\">\n     <g id=\"line2d_11\">\n      <g>\n       <use style=\"stroke:#000000;stroke-width:0.8;\" x=\"38.482813\" xlink:href=\"#me558196326\" y=\"86.51202\"/>\n      </g>\n     </g>\n     <g id=\"text_11\">\n      <!-- 5.0 -->\n      <g transform=\"translate(15.579688 90.311239)scale(0.1 -0.1)\">\n       <use xlink:href=\"#DejaVuSans-35\"/>\n       <use x=\"63.623047\" xlink:href=\"#DejaVuSans-2e\"/>\n       <use x=\"95.410156\" xlink:href=\"#DejaVuSans-30\"/>\n      </g>\n     </g>\n    </g>\n    <g id=\"ytick_7\">\n     <g id=\"line2d_12\">\n      <g>\n       <use style=\"stroke:#000000;stroke-width:0.8;\" x=\"38.482813\" xlink:href=\"#me558196326\" y=\"61.341086\"/>\n      </g>\n     </g>\n     <g id=\"text_12\">\n      <!-- 7.5 -->\n      <g transform=\"translate(15.579688 65.140305)scale(0.1 -0.1)\">\n       <use xlink:href=\"#DejaVuSans-37\"/>\n       <use x=\"63.623047\" xlink:href=\"#DejaVuSans-2e\"/>\n       <use x=\"95.410156\" xlink:href=\"#DejaVuSans-35\"/>\n      </g>\n     </g>\n    </g>\n    <g id=\"ytick_8\">\n     <g id=\"line2d_13\">\n      <g>\n       <use style=\"stroke:#000000;stroke-width:0.8;\" x=\"38.482813\" xlink:href=\"#me558196326\" y=\"36.170152\"/>\n      </g>\n     </g>\n     <g id=\"text_13\">\n      <!-- 10.0 -->\n      <g transform=\"translate(9.217188 39.969371)scale(0.1 -0.1)\">\n       <defs>\n        <path d=\"M 794 531 \nL 1825 531 \nL 1825 4091 \nL 703 3866 \nL 703 4441 \nL 1819 4666 \nL 2450 4666 \nL 2450 531 \nL 3481 531 \nL 3481 0 \nL 794 0 \nL 794 531 \nz\n\" id=\"DejaVuSans-31\" transform=\"scale(0.015625)\"/>\n       </defs>\n       <use xlink:href=\"#DejaVuSans-31\"/>\n       <use x=\"63.623047\" xlink:href=\"#DejaVuSans-30\"/>\n       <use x=\"127.246094\" xlink:href=\"#DejaVuSans-2e\"/>\n       <use x=\"159.033203\" xlink:href=\"#DejaVuSans-30\"/>\n      </g>\n     </g>\n    </g>\n    <g id=\"ytick_9\">\n     <g id=\"line2d_14\">\n      <g>\n       <use style=\"stroke:#000000;stroke-width:0.8;\" x=\"38.482813\" xlink:href=\"#me558196326\" y=\"10.999219\"/>\n      </g>\n     </g>\n     <g id=\"text_14\">\n      <!-- 12.5 -->\n      <g transform=\"translate(9.217188 14.798437)scale(0.1 -0.1)\">\n       <use xlink:href=\"#DejaVuSans-31\"/>\n       <use x=\"63.623047\" xlink:href=\"#DejaVuSans-32\"/>\n       <use x=\"127.246094\" xlink:href=\"#DejaVuSans-2e\"/>\n       <use x=\"159.033203\" xlink:href=\"#DejaVuSans-35\"/>\n      </g>\n     </g>\n    </g>\n   </g>\n   <g id=\"line2d_15\">\n    <path clip-path=\"url(#p5873f79ba6)\" d=\"M 38.482812 225.798007 \nL 41.864631 223.788752 \nL 45.246449 221.779496 \nL 48.628267 219.770241 \nL 52.010085 217.760985 \nL 55.391903 215.75173 \nL 58.773722 213.742474 \nL 62.15554 211.733218 \nL 65.537358 209.723963 \nL 68.919176 207.714707 \nL 72.300994 205.705452 \nL 75.682812 203.696196 \nL 79.064631 201.686941 \nL 82.446449 199.677685 \nL 85.828267 197.66843 \nL 89.210085 195.659174 \nL 92.591903 193.649919 \nL 95.973722 191.640663 \nL 99.35554 189.631407 \nL 102.737358 187.622152 \nL 106.119176 185.612896 \nL 109.500994 183.603641 \nL 112.882812 181.594385 \nL 116.264631 179.58513 \nL 119.646449 177.575874 \nL 123.028267 175.566619 \nL 126.410085 173.557363 \nL 129.791903 171.548108 \nL 133.173722 169.538852 \nL 136.55554 167.529596 \nL 139.937358 165.520341 \nL 143.319176 163.511085 \nL 146.700994 161.50183 \nL 150.082812 159.492574 \nL 153.464631 157.483319 \nL 156.846449 155.474063 \nL 160.228267 153.464808 \nL 163.610085 151.455552 \nL 166.991903 149.446297 \nL 170.373722 147.437041 \nL 173.75554 145.427785 \nL 177.137358 143.41853 \nL 180.519176 141.409274 \nL 183.900994 139.400019 \nL 187.282813 137.390763 \nL 190.664631 135.381508 \nL 194.046449 133.372252 \nL 197.428267 131.362997 \nL 200.810085 129.353741 \nL 204.191903 127.344486 \nL 207.573722 125.33523 \nL 210.95554 123.325974 \nL 214.337358 121.316719 \nL 217.719176 119.307463 \nL 221.100994 117.298208 \nL 224.482812 115.288952 \nL 227.864631 113.279697 \nL 231.246449 111.270441 \nL 234.628267 109.261186 \nL 238.010085 107.25193 \nL 241.391903 105.242675 \nL 244.773722 103.233419 \nL 248.15554 101.224163 \nL 251.537358 99.214908 \nL 254.919176 97.205652 \nL 258.300994 95.196397 \nL 261.682813 93.187141 \nL 265.064631 91.177886 \nL 268.446449 89.16863 \nL 271.828267 87.159375 \nL 275.210085 85.150119 \nL 278.591903 83.140864 \nL 281.973722 81.131608 \nL 285.35554 79.122352 \nL 288.737358 77.113097 \nL 292.119176 75.103841 \nL 295.500994 73.094586 \nL 298.882812 71.08533 \nL 302.264631 69.076075 \nL 305.646449 67.066819 \nL 309.028267 65.057564 \nL 312.410085 63.048308 \nL 315.791903 61.039053 \nL 319.173722 59.029797 \nL 322.55554 57.020541 \nL 325.937358 55.011286 \nL 329.319176 53.00203 \nL 332.700994 50.992775 \nL 336.082813 48.983519 \nL 339.464631 46.974264 \nL 342.846449 44.965008 \nL 346.228267 42.955753 \nL 349.610085 40.946497 \nL 352.991903 38.937242 \nL 356.373722 36.927986 \nL 359.75554 34.91873 \nL 363.137358 32.909475 \nL 366.519176 30.900219 \nL 369.900994 28.890964 \nL 373.282813 26.881708 \n\" style=\"fill:none;stroke:#ff0000;stroke-linecap:square;stroke-width:1.5;\"/>\n   </g>\n   <g id=\"patch_3\">\n    <path d=\"M 38.482813 226.203741 \nL 38.482813 8.763741 \n\" style=\"fill:none;stroke:#000000;stroke-linecap:square;stroke-linejoin:miter;stroke-width:0.8;\"/>\n   </g>\n   <g id=\"patch_4\">\n    <path d=\"M 373.282813 226.203741 \nL 373.282813 8.763741 \n\" style=\"fill:none;stroke:#000000;stroke-linecap:square;stroke-linejoin:miter;stroke-width:0.8;\"/>\n   </g>\n   <g id=\"patch_5\">\n    <path d=\"M 38.482812 226.203741 \nL 373.282813 226.203741 \n\" style=\"fill:none;stroke:#000000;stroke-linecap:square;stroke-linejoin:miter;stroke-width:0.8;\"/>\n   </g>\n   <g id=\"patch_6\">\n    <path d=\"M 38.482812 8.763741 \nL 373.282813 8.763741 \n\" style=\"fill:none;stroke:#000000;stroke-linecap:square;stroke-linejoin:miter;stroke-width:0.8;\"/>\n   </g>\n  </g>\n </g>\n <defs>\n  <clipPath id=\"p5873f79ba6\">\n   <rect height=\"217.44\" width=\"334.8\" x=\"38.482813\" y=\"8.763741\"/>\n  </clipPath>\n </defs>\n</svg>\n",
      "image/png": "[encoded data removed]"
     },
     "metadata": {
      "needs_background": "light"
     }
    }
   ],
   "metadata": {
    "collapsed": true
   }
  },
  {
   "cell_type": "markdown",
   "source": [
    "Now, we will talk a bit on code vectorization. The exercises will have (a) parts and (b) parts. You should be able to complete the (a) parts easily. The (b) parts are harder, but it is good (but not necessary) to know how to complete them).  "
   ],
   "metadata": {}
  },
  {
   "cell_type": "markdown",
   "source": [
    "In many cases, we recieve our feature vectors in the form of a matrix $X$ where each row of $X$ is a feature vector, i.e.\n",
    "$$ X = \\begin{bmatrix} x_{11} & x_{12} & \\ldots & x_{1d} \\\\\n",
    "\\vdots & \\vdots & \\vdots & \\vdots \\\\\n",
    "x_{N1} & x_{N2} & \\ldots & x_{Nd}\\end{bmatrix} $$\n",
    "or more compactly, \n",
    "$$ X = \\begin{bmatrix} \\mathbf{x}_1^\\top \\\\ \\vdots \\\\  \\mathbf{x}_N^\\top \\end{bmatrix}$$\n",
    "where $\\mathbf{x}_i = \\begin{bmatrix} x_{i1} \\\\ \\vdots \\\\ x_{id} \\end{bmatrix}$.\n"
   ],
   "metadata": {}
  },
  {
   "cell_type": "markdown",
   "source": [
    "We often want to calculate quantities like $S \\mathbf{x}$ where $S$ is some matrix of appropriate size. \n",
    "\n"
   ],
   "metadata": {}
  },
  {
   "cell_type": "code",
   "execution_count": 1329,
   "source": [
    "# Lets first make a matrix S and some data\n",
    "S=np.asarray([[2,1,3],[1,2,1]])\n",
    "X=(np.arange(15)).reshape((5,3))\n",
    "print (\"S=\")\n",
    "print (S)\n",
    "print (\"X=\")\n",
    "print (X)"
   ],
   "outputs": [
    {
     "output_type": "stream",
     "name": "stdout",
     "text": [
      "S=\n",
      "[[2 1 3]\n",
      " [1 2 1]]\n",
      "X=\n",
      "[[ 0  1  2]\n",
      " [ 3  4  5]\n",
      " [ 6  7  8]\n",
      " [ 9 10 11]\n",
      " [12 13 14]]\n"
     ]
    }
   ],
   "metadata": {
    "collapsed": true
   }
  },
  {
   "cell_type": "code",
   "execution_count": 1330,
   "source": [
    "# Now, lets calculate S x_i for each feature vector x_i and store this as a row in the matrix Sx\n",
    "# in the naive way\n",
    "def naiveSx(S,X):\n",
    "    Sx = np.zeros((X.shape[0],S.shape[0]))\n",
    "\n",
    "    for i in range(X.shape[0]):\n",
    "        Sx[i]=np.dot(S,X[i])\n",
    "    return Sx\n",
    "\n",
    "print (naiveSx(S,X))"
   ],
   "outputs": [
    {
     "output_type": "stream",
     "name": "stdout",
     "text": [
      "[[ 7.  4.]\n",
      " [25. 16.]\n",
      " [43. 28.]\n",
      " [61. 40.]\n",
      " [79. 52.]]\n"
     ]
    }
   ],
   "metadata": {
    "collapsed": true
   }
  },
  {
   "cell_type": "markdown",
   "source": [
    "So, your loop will end up having $N$ iterations, and doing a matrix * vector multiply in each one. \n",
    "\n",
    "However, some simple linear algebra gives us a nice way to calculate them all in one shot with one matrix\\*matrix multiply. \n",
    "\n",
    "You can easily check the following matrix multiplication is true: \n",
    "$$X S^\\top  =  \\begin{bmatrix} \\mathbf{x}_1^\\top \\\\ \\vdots \\\\  \\mathbf{x}_N^\\top \\end{bmatrix} S^\\top =  \\begin{bmatrix} \\mathbf{x}_1^\\top S^\\top \\\\ \\vdots \\\\  \\mathbf{x}_N^\\top S^\\top \\end{bmatrix} = \\begin{bmatrix} (S \\mathbf{x}_1)^\\top \\\\ \\vdots \\\\  (S \\mathbf{x}_N)\\top \\end{bmatrix}$$"
   ],
   "metadata": {}
  },
  {
   "cell_type": "code",
   "execution_count": 1331,
   "source": [
    "# Lets try calculating S x using this.\n",
    "def matrixSx(S,x):\n",
    "    return np.dot(X,S.T)\n",
    "print (matrixSx(S,X))"
   ],
   "outputs": [
    {
     "output_type": "stream",
     "name": "stdout",
     "text": [
      "[[ 7  4]\n",
      " [25 16]\n",
      " [43 28]\n",
      " [61 40]\n",
      " [79 52]]\n"
     ]
    }
   ],
   "metadata": {
    "collapsed": true
   }
  },
  {
   "cell_type": "markdown",
   "source": [
    "Now, one may say, \"Is there an advantage of doing one over the other?\"\n",
    "\n",
    "Well, lets see how they perform. "
   ],
   "metadata": {}
  },
  {
   "cell_type": "code",
   "execution_count": 1332,
   "source": [
    "d=10\n",
    "N=1000\n",
    "S=np.random.randn(d,d) # We'll generate some random S (d x d) and data X (N x d)\n",
    "X=np.random.randn(N,d)\n",
    "%timeit naiveSx(S,X)\n",
    "%timeit matrixSx(S,X)"
   ],
   "outputs": [
    {
     "output_type": "stream",
     "name": "stdout",
     "text": [
      "1.8 ms ± 68.9 µs per loop (mean ± std. dev. of 7 runs, 100 loops each)\n",
      "25.4 µs ± 1.42 µs per loop (mean ± std. dev. of 7 runs, 10000 loops each)\n"
     ]
    }
   ],
   "metadata": {
    "collapsed": true
   }
  },
  {
   "cell_type": "markdown",
   "source": [
    "You should see that the naive version (2.17 ms on my computer) is much slower with d=10, N=1000 than the matrix version (33.5 $\\mu$s; a factor of 65x). And, with a bit of experience, the matrix multiply version will yield much more readable code.\n",
    "\n",
    "In many cases, for fast, readable code, you'll want to use built-in operations which can operate on the data array (or large portions of it at one time), rather than iterating over each feature vector. Of course, you need to do some thinking and experimentation to determine what is faster at the end of the day (but don't caught up with premature optimization!)."
   ],
   "metadata": {}
  },
  {
   "cell_type": "markdown",
   "source": [
    "Another quantity one may often want to calculate is $\\mathbf{x}^\\top A \\mathbf{y}$ (which is a number) for some matrix $A$. The most important special case is that of a quadratic form <a href=\"https://en.wikipedia.org/wiki/Quadratic_form\">Quadratic form</a>, where $A$ is some symmetric matrix and you want to calculate $\\mathbf{x}^\\top A \\mathbf{x}$. \n",
    "\n",
    "Exercise 5: You will compute $\\mathbf{x}^\\top A \\mathbf{y}$ for a collection of of vectors $\\{\\mathbf{x}_i\\}$ and $\\{\\mathbf{y}_j\\}$, where $A$ is of appropriate size such that the product is defined. You will receive the vectors in the form of two matrices:\n",
    "$$ X = \\begin{bmatrix} \\mathbf{x}_1^\\top \\\\ \\mathbf{x}_2^\\top \\\\ \\vdots \\\\ \\end{bmatrix}$$\n",
    "\n",
    "$$ Y = \\begin{bmatrix} \\mathbf{y}_1^\\top \\\\ \\mathbf{y}_2^\\top \\\\ \\vdots \\\\ \\end{bmatrix}$$\n",
    "\n",
    "Your code will return a matrix such that the $(i,j)$-th entry will be $\\mathbf{x}_i^\\top A \\mathbf{y}_j$. "
   ],
   "metadata": {}
  },
  {
   "cell_type": "markdown",
   "source": [
    "Part (a): Calculate the matrix with $(i,j$)-th entry as  $\\mathbf{x}_i^\\top A \\mathbf{y}_j$ by looping over the rows of $X,Y$."
   ],
   "metadata": {}
  },
  {
   "cell_type": "markdown",
   "source": [
    "Part (b): Repeat part (a), but using only matrix operations (no loops!). \n",
    "\n",
    "Hint: You can do this with just numpy.dot and the transpose operations. Try writing out an appropriate matrix multiplication as above, and noting $\\mathbf{x}^\\top A \\mathbf{y} = (\\mathbf{x}^\\top A) \\mathbf{y}=(A^T \\mathbf{x})^\\top \\mathbf{y}$. "
   ],
   "metadata": {}
  },
  {
   "cell_type": "code",
   "execution_count": 1333,
   "source": [
    "#Generate some random data\n",
    "A=np.reshape(np.arange(15),(5,3))\n",
    "Y=np.reshape(np.arange(30),(10,3))\n",
    "X=np.reshape(np.arange(10),(2,5))\n",
    "print (module.naive5(X,A,Y))\n",
    "print (module.matrix5(X,A,Y))\n",
    "print (\"This should be small (about zero): \", np.sum((module.naive5(X,A,Y)-module.matrix5(X,A,Y))**2))\n",
    "\n",
    "# Your result should be:\n",
    "# [[  320  1220  2120  3020  3920  4820  5720  6620  7520  8420]\n",
    "#  [  895  3370  5845  8320 10795 13270 15745 18220 20695 23170]]"
   ],
   "outputs": [
    {
     "output_type": "stream",
     "name": "stdout",
     "text": [
      "[[  320.  1220.  2120.  3020.  3920.  4820.  5720.  6620.  7520.  8420.]\n",
      " [  895.  3370.  5845.  8320. 10795. 13270. 15745. 18220. 20695. 23170.]]\n",
      "[[  320  1220  2120  3020  3920  4820  5720  6620  7520  8420]\n",
      " [  895  3370  5845  8320 10795 13270 15745 18220 20695 23170]]\n",
      "This should be small (about zero):  0.0\n"
     ]
    }
   ],
   "metadata": {
    "collapsed": true
   }
  },
  {
   "cell_type": "markdown",
   "source": [
    "Your result should be \n",
    "\n",
    "`[[  320  1220  2120  3020  3920  4820  5720  6620  7520  8420]\n",
    " [  895  3370  5845  8320 10795 13270 15745 18220 20695 23170]]`"
   ],
   "metadata": {}
  },
  {
   "cell_type": "markdown",
   "source": [
    "A related problem is to evaluate $f(\\mathbf{x}) = \\mathbf{x}^\\top A \\mathbf{x}$ where $A$ is a square matrix for a collection of vectors $\\{\\mathbf{x}_i\\}$. You could take the result of Exercise 5 and extract the diagonal (e.g. using `numpy.diag`) and returning that. But, that is wasteful if you don't care about $\\mathbf{x}_i^\\top A \\mathbf{x}_j$ when $i \\neq j$."
   ],
   "metadata": {}
  },
  {
   "cell_type": "markdown",
   "source": [
    "Exercise 6: You will compute $\\mathbf{x}^\\top A \\mathbf{x}$ for a collection of $N$ vectors $\\{\\mathbf{x}_i\\}$ which are provided as a matrix $X$ (as in Exercise 5). You should return a vector length $N$ where the $i$-th entry is $\\mathbf{x}_i^\\top A \\mathbf{x}_i$. "
   ],
   "metadata": {}
  },
  {
   "cell_type": "markdown",
   "source": [
    "Part (a): Calculate a vector with $i$-th component $\\mathbf{x}_i^\\top A \\mathbf{x}_i$ by looping over the rows of $X$."
   ],
   "metadata": {}
  },
  {
   "cell_type": "markdown",
   "source": [
    "Part (b): Repeat part (a) using matrix operations (no loops!). \n",
    "\n",
    "Hint: You can do this with the np.dot, elementwise multiplication and np.sum (along an axis) operations. The solution is <a href=\"http://stackoverflow.com/questions/8457110/how-to-vectorize-the-evaluation-of-bilinear-quadratic-forms\">easily found online</a>, but try it first on your own."
   ],
   "metadata": {}
  },
  {
   "cell_type": "code",
   "execution_count": 1334,
   "source": [
    "A=np.reshape(np.arange(9),(3,3))\n",
    "X=np.reshape(np.arange(30),(10,3))\n",
    "print (module.naive6(X,A))\n",
    "print (module.matrix6(X,A))\n",
    "print (\"This should be small:\", np.sum((module.naive6(X,A)-module.matrix6(X,A))**2))\n",
    "\n",
    "# Your result should be: [   60   672  1932  3840  6396  9600 13452 17952 23100 28896]"
   ],
   "outputs": [
    {
     "output_type": "stream",
     "name": "stdout",
     "text": [
      "[   60.   672.  1932.  3840.  6396.  9600. 13452. 17952. 23100. 28896.]\n",
      "[   60   672  1932  3840  6396  9600 13452 17952 23100 28896]\n",
      "This should be small: 0.0\n"
     ]
    }
   ],
   "metadata": {
    "collapsed": true
   }
  },
  {
   "cell_type": "markdown",
   "source": [
    "## And this concludes Lab 1! "
   ],
   "metadata": {}
  }
 ],
 "metadata": {
  "kernelspec": {
   "name": "python3",
   "display_name": "Python 3.8.5 64-bit ('Part1-6JmGpJVu': pipenv)"
  },
  "language_info": {
   "codemirror_mode": {
    "name": "ipython",
    "version": 3
   },
   "file_extension": ".py",
   "mimetype": "text/x-python",
   "name": "python",
   "nbconvert_exporter": "python",
   "pygments_lexer": "ipython3",
   "version": "3.8.5"
  },
  "interpreter": {
   "hash": "0a05bb741a9f657218e35c18d130a49724f0b6d9dbdc70a52c2c373dd5d6095f"
  }
 },
 "nbformat": 4,
 "nbformat_minor": 1
}